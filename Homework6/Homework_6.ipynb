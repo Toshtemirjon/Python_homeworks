{
 "cells": [
  {
   "cell_type": "code",
   "execution_count": null,
   "id": "4a528fa3",
   "metadata": {},
   "outputs": [],
   "source": [
    "#1. Modify String with Underscores\n",
    "#Given a string txt, insert an underscore (_) after every third character.\n",
    "#If a character is a vowel or already has an underscore after it,\n",
    "#shift the underscore placement to the next character. No underscore should be added at the end.\n",
    "#Examples\n",
    "#Input: hello Output: hel_lo\n",
    "#Input: assalom Output: ass_alom\n",
    "#Input: abcabcabcdeabcdefabcdefg Output: abc_abc_abcd_abcd_abcdef\n",
    "txt = input('Enter a string: ')\n",
    "vowels = 'aioue'\n",
    "empty_list = []\n",
    "for i in txt:\n",
    "    empty_list.append(i)\n",
    "i = 3\n",
    "while i < len(txt):\n",
    "    if empty_list[i-1] == '_' or empty_list[i-1] in vowels:\n",
    "        i+=1\n",
    "    empty_list.insert(i, '_')\n",
    "    i+=4\n",
    "print(''.join(empty_list))\n",
    "\n"
   ]
  },
  {
   "cell_type": "code",
   "execution_count": 6,
   "id": "dd6e945b",
   "metadata": {},
   "outputs": [
    {
     "name": "stdout",
     "output_type": "stream",
     "text": [
      "0\n",
      "1\n",
      "4\n",
      "9\n",
      "16\n"
     ]
    }
   ],
   "source": [
    "#2. Integer Squares Exercise\n",
    "#Task\n",
    "#The provided code stub reads an integer, n, from STDIN. For all non-negative integers i where 0 <= i < n, print i^2.\n",
    "n = int(input('Enter a integer between 1 and 20 to get squares of numbers ultill that integer'))\n",
    "for i in range(n):\n",
    "    print(i**2)\n",
    "\n"
   ]
  },
  {
   "cell_type": "code",
   "execution_count": 7,
   "id": "975cdb38",
   "metadata": {},
   "outputs": [
    {
     "name": "stdout",
     "output_type": "stream",
     "text": [
      "0\n",
      "1\n",
      "2\n",
      "3\n",
      "4\n",
      "5\n",
      "6\n",
      "7\n",
      "8\n",
      "9\n"
     ]
    }
   ],
   "source": [
    "#3. Loop-Based Exercises\n",
    "#Exercise 1: Print first 10 natural numbers using a while loop\n",
    "for i in range(10):\n",
    "    print(i)"
   ]
  },
  {
   "cell_type": "code",
   "execution_count": 14,
   "id": "a5891d92",
   "metadata": {},
   "outputs": [
    {
     "name": "stdout",
     "output_type": "stream",
     "text": [
      "\n",
      "1 \n",
      "1 2 \n",
      "1 2 3 \n",
      "1 2 3 4 \n",
      "1 2 3 4 5 \n"
     ]
    }
   ],
   "source": [
    "#Exercise 2: Print the following pattern\n",
    "#  1\n",
    "#  1 2\n",
    "#  1 2 3\n",
    "#  1 2 3 4\n",
    "#  1 2 3 4 5\n",
    "for i in range(6):\n",
    "    for j in range(1, i+1):\n",
    "        print(j, end=\" \")\n",
    "    print()"
   ]
  },
  {
   "cell_type": "code",
   "execution_count": 18,
   "id": "72bb89bb",
   "metadata": {},
   "outputs": [
    {
     "name": "stdout",
     "output_type": "stream",
     "text": [
      "The sum of all numbers from 1 to 10 is: 55\n"
     ]
    }
   ],
   "source": [
    "#Exercise 3: Calculate sum of all numbers from 1 to a given number\n",
    "a= int(input('Enter a number and get sum of numbers came before that number'))\n",
    "sum_of_numbers=0\n",
    "for i in range(1, a+1):\n",
    "    sum_of_numbers += i\n",
    "print(f\"The sum of all numbers from 1 to {a} is: {sum_of_numbers}\")   "
   ]
  },
  {
   "cell_type": "code",
   "execution_count": null,
   "id": "952a64ce",
   "metadata": {},
   "outputs": [
    {
     "name": "stdout",
     "output_type": "stream",
     "text": [
      "5\n",
      "10\n",
      "15\n",
      "20\n",
      "25\n",
      "30\n",
      "35\n",
      "40\n",
      "45\n",
      "50\n"
     ]
    }
   ],
   "source": [
    "#Exercise 4: Print multiplication table of a given number\n",
    "b=int(input('Enter a number'))\n",
    "Mul=1\n",
    "for i in range(1, 11):\n",
    "    Mul=b*i\n",
    "    print(Mul)    \n"
   ]
  },
  {
   "cell_type": "code",
   "execution_count": null,
   "id": "1340ff40",
   "metadata": {},
   "outputs": [
    {
     "name": "stdout",
     "output_type": "stream",
     "text": [
      "75\n",
      "150\n",
      "145\n"
     ]
    }
   ],
   "source": [
    "#Exercise 5: Display numbers from a list using a loop\n",
    "numbers = [12, 75, 150, 180, 145, 525, 50]\n",
    "\n",
    "for num in numbers:\n",
    "    if 50 < num <= 150:\n",
    "        print(num)\n"
   ]
  },
  {
   "cell_type": "code",
   "execution_count": 28,
   "id": "756162b7",
   "metadata": {},
   "outputs": [
    {
     "name": "stdout",
     "output_type": "stream",
     "text": [
      "The number 535443468431684468444843438 has 27 digits.\n"
     ]
    }
   ],
   "source": [
    "#Exercise 6: Count the total number of digits in a number\n",
    "c=int(input('Enter a number to reach how many digits in it'))\n",
    "num_digits = len(str(c))\n",
    "print(f\"The number {c} has {num_digits} digits.\")"
   ]
  },
  {
   "cell_type": "code",
   "execution_count": 32,
   "id": "5cbd63f9",
   "metadata": {},
   "outputs": [
    {
     "name": "stdout",
     "output_type": "stream",
     "text": [
      "5 4 3 2 1 \n",
      "4 3 2 1 \n",
      "3 2 1 \n",
      "2 1 \n",
      "1 \n"
     ]
    }
   ],
   "source": [
    "#Exercise 7: Print reverse number pattern\n",
    "for i in range(5, 0, -1):\n",
    "    for j in range(i, 0, -1):\n",
    "        print(j, end=\" \")\n",
    "    print()"
   ]
  },
  {
   "cell_type": "code",
   "execution_count": 33,
   "id": "46b500e9",
   "metadata": {},
   "outputs": [
    {
     "name": "stdout",
     "output_type": "stream",
     "text": [
      "50\n",
      "40\n",
      "30\n",
      "20\n",
      "10\n"
     ]
    }
   ],
   "source": [
    "#Exercise 8: Print list in reverse order using a loop\n",
    "list1 = [10, 20, 30, 40, 50]\n",
    "for i in range(len(list1) - 1, -1, -1):\n",
    "    print(list1[i])\n"
   ]
  },
  {
   "cell_type": "code",
   "execution_count": 36,
   "id": "2611c478",
   "metadata": {},
   "outputs": [
    {
     "name": "stdout",
     "output_type": "stream",
     "text": [
      "-10\n",
      "-9\n",
      "-8\n",
      "-7\n",
      "-6\n",
      "-5\n",
      "-4\n",
      "-3\n",
      "-2\n",
      "-1\n"
     ]
    }
   ],
   "source": [
    "#Exercise 9: Display numbers from -10 to -1 using a for loop\n",
    "for i in range(-10, 0):\n",
    "    print(i)"
   ]
  },
  {
   "cell_type": "code",
   "execution_count": 37,
   "id": "b1182507",
   "metadata": {},
   "outputs": [
    {
     "name": "stdout",
     "output_type": "stream",
     "text": [
      "1\n",
      "2\n",
      "3\n",
      "4\n",
      "5\n",
      "Done\n"
     ]
    }
   ],
   "source": [
    "#Exercise 10: Display message “Done” after successful loop execution\n",
    "for i in range(1, 6):\n",
    "    print(i)\n",
    "print(\"Done\")\n"
   ]
  },
  {
   "cell_type": "code",
   "execution_count": 38,
   "metadata": {},
   "outputs": [
    {
     "name": "stdout",
     "output_type": "stream",
     "text": [
      "[29, 31, 37, 41, 43, 47]\n"
     ]
    }
   ],
   "source": [
    "#Exercise 11: Print all prime numbers within a range\n",
    "def prime(n):\n",
    "    for b in range(2, int(n**0.5)+1):\n",
    "        if n % b == 0:\n",
    "            return False\n",
    "    return True\n",
    "def print_primes(start, end):\n",
    "    primes = [n for n in range(start, end+1) if prime(n)]\n",
    "    return primes\n",
    "\n",
    "start = 25\n",
    "end = 50\n",
    "prime_numbers = print_primes(start, end)\n",
    "print(prime_numbers)"
   ]
  },
  {
   "cell_type": "code",
   "execution_count": 39,
   "id": "a41f7692",
   "metadata": {},
   "outputs": [
    {
     "name": "stdout",
     "output_type": "stream",
     "text": [
      "Fibonacci series up to 10 terms:\n",
      "0 1 1 2 3 5 8 13 21 34 "
     ]
    }
   ],
   "source": [
    "#Exercise 12: Display Fibonacci series up to 10 terms\n",
    "a, b = 0, 1\n",
    "print(\"Fibonacci series up to 10 terms:\")\n",
    "for _ in range(10):\n",
    "    print(a, end=\" \")\n",
    "    a, b = b, a + b  \n",
    "\n"
   ]
  },
  {
   "cell_type": "code",
   "execution_count": 44,
   "id": "89082b46",
   "metadata": {},
   "outputs": [
    {
     "name": "stdout",
     "output_type": "stream",
     "text": [
      "6\n"
     ]
    }
   ],
   "source": [
    "#Exercise 13: Find the factorial of a given number\n",
    "import math\n",
    "t=int(input('Enter a number for factorizing'))\n",
    "f=math.factorial(t)\n",
    "print(f)"
   ]
  },
  {
   "cell_type": "code",
   "execution_count": 46,
   "id": "ed1be789",
   "metadata": {},
   "outputs": [
    {
     "name": "stdout",
     "output_type": "stream",
     "text": [
      "Uncommon elements: [2, 5]\n"
     ]
    }
   ],
   "source": [
    "#4. Return Uncommon Elements of Lists\n",
    "#Task\n",
    "#Return the elements that are not common between two lists. The order of elements does not matter.\n",
    "list1 = [1, 1, 2, 3, 4, 2]\n",
    "list2 = [1, 3, 4, 5]\n",
    "uncommon = []\n",
    "for item in list1:\n",
    "    if item not in list2 and item not in uncommon:\n",
    "        uncommon.append(item)\n",
    "for item in list2:\n",
    "    if item not in list1 and item not in uncommon:\n",
    "        uncommon.append(item)\n",
    "print(f\"Uncommon elements: {uncommon}\")                "
   ]
  }
 ],
 "metadata": {
  "kernelspec": {
   "display_name": "Python 3",
   "language": "python",
   "name": "python3"
  },
  "language_info": {
   "codemirror_mode": {
    "name": "ipython",
    "version": 3
   },
   "file_extension": ".py",
   "mimetype": "text/x-python",
   "name": "python",
   "nbconvert_exporter": "python",
   "pygments_lexer": "ipython3",
   "version": "3.13.2"
  }
 },
 "nbformat": 4,
 "nbformat_minor": 5
}
