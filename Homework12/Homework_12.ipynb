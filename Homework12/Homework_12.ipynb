{
 "cells": [
  {
   "cell_type": "code",
   "execution_count": 3,
   "id": "174a395e",
   "metadata": {},
   "outputs": [
    {
     "name": "stdout",
     "output_type": "stream",
     "text": [
      "Prime numbers in the range 4 to 98: [5, 7, 11, 13, 17, 19, 23, 29, 31, 37, 41, 43, 47, 53, 59, 61, 67, 71, 73, 79, 83, 89, 97]\n"
     ]
    }
   ],
   "source": [
    "import threading\n",
    "\n",
    "# Function to check if a number is prime\n",
    "def is_prime(num):\n",
    "    if num <= 1:\n",
    "        return False\n",
    "    for i in range(2, int(num**0.5) + 1):\n",
    "        if num % i == 0:\n",
    "            return False\n",
    "    return True\n",
    "\n",
    "# Thread function to check primes in a subset of the range\n",
    "def check_primes_in_range(start, end, result):\n",
    "    primes = []\n",
    "    for num in range(start, end + 1):\n",
    "        if is_prime(num):\n",
    "            primes.append(num)\n",
    "    result.extend(primes)\n",
    "    \n",
    "# Main program\n",
    "def main():\n",
    "    start_range = int(input(\"Enter the start of the range: \"))\n",
    "    end_range = int(input(\"Enter the end of the range: \"))\n",
    "    num_threads = int(input(\"Enter the number of threads: \"))\n",
    "\n",
    "    # Divide the range among threads\n",
    "    step = (end_range - start_range + 1) // num_threads\n",
    "    threads = []\n",
    "    results = []\n",
    "\n",
    "    for i in range(num_threads):\n",
    "        thread_start = start_range + i * step\n",
    "        thread_end = start_range + (i + 1) * step - 1 if i < num_threads - 1 else end_range\n",
    "        thread_result = []\n",
    "        results.append(thread_result)\n",
    "        thread = threading.Thread(target=check_primes_in_range, args=(thread_start, thread_end, thread_result))\n",
    "        threads.append(thread)\n",
    "        thread.start()\n",
    "\n",
    "    # Wait for all threads to complete\n",
    "    for thread in threads:\n",
    "        thread.join()\n",
    "\n",
    "    # Combine results from all threads\n",
    "    all_primes = [prime for sublist in results for prime in sublist]\n",
    "    print(f\"Prime numbers in the range {start_range} to {end_range}: {sorted(all_primes)}\")\n",
    "\n",
    "if __name__ == \"__main__\":\n",
    "    main()"
   ]
  },
  {
   "cell_type": "code",
   "execution_count": 5,
   "id": "b82c5a1c",
   "metadata": {},
   "outputs": [
    {
     "name": "stdout",
     "output_type": "stream",
     "text": [
      "Word occurrences:\n",
      "Hello: 1\n",
      "file!: 1\n"
     ]
    }
   ],
   "source": [
    "import threading\n",
    "from collections import Counter\n",
    "\n",
    "# Thread function to count words in a portion of the file\n",
    "def count_words(lines, result):\n",
    "    word_count = Counter()\n",
    "    for line in lines:\n",
    "        words = line.strip().split()\n",
    "        word_count.update(words)\n",
    "    result.append(word_count)\n",
    "\n",
    "# Main program\n",
    "def main():\n",
    "    file_path = input(\"Enter the path to the text file: \")\n",
    "    num_threads = int(input(\"Enter the number of threads: \"))\n",
    "\n",
    "    # Read the file and split lines\n",
    "    with open(file_path, 'r') as file:\n",
    "        lines = file.readlines()\n",
    "\n",
    "    # Divide lines among threads\n",
    "    step = len(lines) // num_threads\n",
    "    threads = []\n",
    "    results = []\n",
    "\n",
    "    for i in range(num_threads):\n",
    "        start = i * step\n",
    "        end = (i + 1) * step if i < num_threads - 1 else len(lines)\n",
    "        thread_result = []\n",
    "        results.append(thread_result)\n",
    "        thread = threading.Thread(target=count_words, args=(lines[start:end], thread_result))\n",
    "        threads.append(thread)\n",
    "        thread.start()\n",
    "    # Wait for all threads to complete\n",
    "    for thread in threads:\n",
    "        thread.join()\n",
    "\n",
    "    # Combine results from all threads\n",
    "    total_word_count = Counter()\n",
    "    for result in results:\n",
    "        total_word_count.update(result[0])\n",
    "\n",
    "    # Display the word count summary\n",
    "    print(\"Word occurrences:\")\n",
    "    for word, count in total_word_count.items():\n",
    "        print(f\"{word}: {count}\")\n",
    "\n",
    "if __name__ == \"__main__\":\n",
    "    main()"
   ]
  }
 ],
 "metadata": {
  "kernelspec": {
   "display_name": "Python 3",
   "language": "python",
   "name": "python3"
  },
  "language_info": {
   "codemirror_mode": {
    "name": "ipython",
    "version": 3
   },
   "file_extension": ".py",
   "mimetype": "text/x-python",
   "name": "python",
   "nbconvert_exporter": "python",
   "pygments_lexer": "ipython3",
   "version": "3.13.2"
  }
 },
 "nbformat": 4,
 "nbformat_minor": 5
}
