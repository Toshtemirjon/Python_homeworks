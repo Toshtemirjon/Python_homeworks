{
 "cells": [
  {
   "cell_type": "code",
   "execution_count": null,
   "metadata": {},
   "outputs": [
    {
     "name": "stdout",
     "output_type": "stream",
     "text": [
      "Ascending order: {0: 4, 3: 10, 2: 23, 1: 35}\n",
      "Descending order: {1: 35, 2: 23, 3: 10, 0: 4}\n"
     ]
    }
   ],
   "source": [
    "#1 Sort a Dictionary by Value\n",
    "# Write a Python script to sort (ascending and descending) a dictionary by value.\n",
    "dictionary = {0: 4, 1: 35, 2: 23, 3: 10}\n",
    "\n",
    "sorted_asc = dict(sorted(dictionary.items(), key=lambda item: item[1]))\n",
    "sorted_desc = dict(sorted(dictionary.items(), key=lambda item: item[1], reverse=True))\n",
    "print(f'Ascending order: {sorted_asc}')\n",
    "print(f'Descending order: {sorted_desc}')\n"
   ]
  },
  {
   "cell_type": "code",
   "execution_count": 27,
   "metadata": {},
   "outputs": [
    {
     "name": "stdout",
     "output_type": "stream",
     "text": [
      "{0: 10, 1: 20, 2: 30}\n"
     ]
    }
   ],
   "source": [
    "#2 Add a Key to a Dictionary\n",
    "#Write a Python script to add a key to a dictionary.\n",
    "dictionary = {0: 10, 1: 20}\n",
    "a= {2: 30}\n",
    "dictionary.update(a)\n",
    "print (dictionary)"
   ]
  },
  {
   "cell_type": "code",
   "execution_count": 41,
   "metadata": {},
   "outputs": [
    {
     "name": "stdout",
     "output_type": "stream",
     "text": [
      "{1: 10, 2: 20, 3: 30, 4: 40, 5: 50, 6: 60}\n"
     ]
    }
   ],
   "source": [
    "#3. Concatenate Multiple Dictionaries\n",
    "#Write a Python script to concatenate the following dictionaries to create a new one.\n",
    "dic1 = {1: 10, 2: 20}\n",
    "dic2 = {3: 30, 4: 40}\n",
    "dic3 = {5: 50, 6: 60}\n",
    "dic1.update(dic2)\n",
    "dic1.update(dic3)\n",
    "print(dic1)"
   ]
  },
  {
   "cell_type": "code",
   "execution_count": 43,
   "metadata": {},
   "outputs": [
    {
     "name": "stdout",
     "output_type": "stream",
     "text": [
      "Dictionary with squares: {1: 1, 2: 4, 3: 9, 4: 16, 5: 25, 6: 36, 7: 49}\n"
     ]
    }
   ],
   "source": [
    "#4. Generate a Dictionary with Squares\n",
    "#Write a Python script to generate and print a dictionary that contains a number (between 1 and n) in the form (x, x*x).\n",
    "def squares(n):\n",
    "    return {x: x * x for x in range(1, n+1)}\n",
    "n = int(input(\"Enter a number n: \"))\n",
    "squares_dict =squares(n)\n",
    "\n",
    "# Print the dictionary\n",
    "print(f'Dictionary with squares: {squares_dict}')\n"
   ]
  },
  {
   "cell_type": "code",
   "execution_count": 45,
   "metadata": {},
   "outputs": [
    {
     "name": "stdout",
     "output_type": "stream",
     "text": [
      "Dictionary with squares(1 to 15): {1: 1, 2: 4, 3: 9, 4: 16, 5: 25, 6: 36, 7: 49, 8: 64, 9: 81, 10: 100, 11: 121, 12: 144, 13: 169, 14: 196, 15: 225}\n"
     ]
    }
   ],
   "source": [
    "#5. Dictionary of Squares (1 to 15)\n",
    "#Write a Python script to print a dictionary where the keys are numbers between 1 and 15 (both included) and the values are the square of the keys.\n",
    "def squares(n):\n",
    "    return {x: x * x for x in range(1, n+1)}\n",
    "squares_dict =squares(15)\n",
    "\n",
    "# Print the dictionary\n",
    "print(f'Dictionary with squares(1 to 15): {squares_dict}')"
   ]
  },
  {
   "cell_type": "code",
   "execution_count": 48,
   "metadata": {},
   "outputs": [
    {
     "name": "stdout",
     "output_type": "stream",
     "text": [
      "{1, 2, 3, 4, 5, 6, 7}\n"
     ]
    }
   ],
   "source": [
    "#Set Exercises\n",
    "#1. Create a Set\n",
    "#Write a Python program to create a set.\n",
    "Set = {1, 2, 3, 4, 5, 6, 7}\n",
    "print(Set)"
   ]
  },
  {
   "cell_type": "code",
   "execution_count": 49,
   "metadata": {},
   "outputs": [
    {
     "name": "stdout",
     "output_type": "stream",
     "text": [
      "Iterating over the set:\n",
      "1\n",
      "2\n",
      "3\n",
      "4\n",
      "5\n",
      "6\n",
      "7\n"
     ]
    }
   ],
   "source": [
    "#2. Iterate Over a Set\n",
    "#Write a Python program to iterate over sets.\n",
    "set = {1, 2, 3, 4, 5, 6, 7}\n",
    "print(\"Iterating over the set:\")\n",
    "for item in set:\n",
    "    print(item)\n"
   ]
  },
  {
   "cell_type": "code",
   "execution_count": null,
   "metadata": {},
   "outputs": [
    {
     "name": "stdout",
     "output_type": "stream",
     "text": [
      "One value added to the set: {1, 2, 3, 4, 5, 6, 7, 8}\n",
      "More values added to the set: {1, 2, 3, 4, 5, 6, 7, 8, 9, 10, 11, 12}\n"
     ]
    }
   ],
   "source": [
    "#3. Add Member(s) to a Set\n",
    "#Write a Python program to add member(s) to a set.\n",
    "set = {1, 2, 3, 4, 5, 6, 7}\n",
    "set.add(8)\n",
    "print(f'One value added to the set: {set}')\n",
    "\n",
    "set.update([9, 10, 11, 12])\n",
    "print(f'More values added to the set: {set}')"
   ]
  },
  {
   "cell_type": "code",
   "execution_count": 65,
   "metadata": {},
   "outputs": [
    {
     "name": "stdout",
     "output_type": "stream",
     "text": [
      "{1, 3, 4, 5, 6, 7}\n",
      "{1, 4, 5, 7}\n"
     ]
    }
   ],
   "source": [
    "#4. Remove Item(s) from a Set\n",
    "#Write a Python program to remove item(s) from a given set.\n",
    "set = {1, 2, 3, 4, 5, 6, 7}\n",
    "set.remove(2)\n",
    "print(set)\n",
    "\n",
    "item=[3, 6]\n",
    "for i in item:\n",
    " set.discard(i)\n",
    "\n",
    "print(set)"
   ]
  },
  {
   "cell_type": "code",
   "execution_count": 66,
   "metadata": {},
   "outputs": [
    {
     "name": "stdout",
     "output_type": "stream",
     "text": [
      "{1, 2, 4, 5, 6, 7}\n"
     ]
    }
   ],
   "source": [
    "#5. Remove an Item if Present in the Set\n",
    "#Write a Python program to remove an item from a set if it is present in the set.\n",
    "set = {1, 2, 3, 4, 5, 6, 7}\n",
    "item=3\n",
    "if item in set:\n",
    "    set.remove(item)\n",
    "print(set)    "
   ]
  }
 ],
 "metadata": {
  "kernelspec": {
   "display_name": "Python 3",
   "language": "python",
   "name": "python3"
  },
  "language_info": {
   "codemirror_mode": {
    "name": "ipython",
    "version": 3
   },
   "file_extension": ".py",
   "mimetype": "text/x-python",
   "name": "python",
   "nbconvert_exporter": "python",
   "pygments_lexer": "ipython3",
   "version": "3.13.2"
  }
 },
 "nbformat": 4,
 "nbformat_minor": 2
}
