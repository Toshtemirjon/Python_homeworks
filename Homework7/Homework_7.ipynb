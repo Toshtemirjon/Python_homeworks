{
 "cells": [
  {
   "cell_type": "code",
   "execution_count": 6,
   "id": "7c0a2d87",
   "metadata": {},
   "outputs": [],
   "source": [
    "#Problems\n",
    "#1. is_prime(n) function\n",
    "#Create a function is_prime(n) (n > 0). It should return True if n is prime, False otherwise.\n",
    "def is_prime(n):\n",
    "    if n <= 1:\n",
    "        return False\n",
    "    for b in range(2, int(n ** 0.5) + 1):\n",
    "        if n % b == 0:\n",
    "            return False\n",
    "    return True\n"
   ]
  },
  {
   "cell_type": "code",
   "execution_count": null,
   "id": "20289525",
   "metadata": {},
   "outputs": [
    {
     "name": "stdout",
     "output_type": "stream",
     "text": [
      "Sum of 657's digits: 18\n"
     ]
    }
   ],
   "source": [
    "#2. digit_sum(k) function\n",
    "# Write the function digit_sum(k) that calculates the sum of the digits of a number k.\n",
    "def digit_sum(k):\n",
    "    total = 0\n",
    "    for i in str(k):\n",
    "        total +=int(i)\n",
    "    return total\n",
    "l=int(input('Enter a number for knowing sum of its digits'))\n",
    "print(f'Sum of {l}\\'s digits: {digit_sum(l)}')"
   ]
  },
  {
   "cell_type": "code",
   "execution_count": 28,
   "id": "9573aae6",
   "metadata": {},
   "outputs": [
    {
     "name": "stdout",
     "output_type": "stream",
     "text": [
      "1\n",
      "2\n",
      "4\n",
      "8\n",
      "16\n",
      "32\n"
     ]
    }
   ],
   "source": [
    "#3. Powers of two numbers\n",
    "# Write a function that prints all powers of 2 (i.e., numbers of the form 2**k) that do not exceed a given number N.\n",
    "def powers_2(N):\n",
    "    i = 0\n",
    "    while 2 ** i <= N:\n",
    "        print(2 ** i)\n",
    "        i += 1\n",
    "t=int(input('Number:'))  \n",
    "powers_2(t)\n"
   ]
  }
 ],
 "metadata": {
  "kernelspec": {
   "display_name": "Python 3",
   "language": "python",
   "name": "python3"
  },
  "language_info": {
   "codemirror_mode": {
    "name": "ipython",
    "version": 3
   },
   "file_extension": ".py",
   "mimetype": "text/x-python",
   "name": "python",
   "nbconvert_exporter": "python",
   "pygments_lexer": "ipython3",
   "version": "3.13.2"
  }
 },
 "nbformat": 4,
 "nbformat_minor": 5
}
