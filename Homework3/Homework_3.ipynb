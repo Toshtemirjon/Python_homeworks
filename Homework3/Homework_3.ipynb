{
 "cells": [
  {
   "cell_type": "code",
   "execution_count": null,
   "metadata": {},
   "outputs": [
    {
     "name": "stdout",
     "output_type": "stream",
     "text": [
      "The third fruit is: cherry\n"
     ]
    }
   ],
   "source": [
    "#1. Create and Access List Elements\n",
    "#Create a list containing five different fruits and print the third fruit.\n",
    "fruits = [\"apple\", \"banana\", \"pear\", \"orange\", \"pomegranate\"]\n",
    "print(f\"The third fruit is: {fruits[2]}\")"
   ]
  },
  {
   "cell_type": "code",
   "execution_count": 3,
   "metadata": {},
   "outputs": [
    {
     "name": "stdout",
     "output_type": "stream",
     "text": [
      "[5, 6, 7, 4, 9, 4, 8, 3]\n"
     ]
    }
   ],
   "source": [
    "#2. Concatenate Two Lists\n",
    "#Create two lists of numbers and concatenate them into a single list.\n",
    "List1=[5, 6, 7, 4]\n",
    "List2=[9, 4, 8, 3]\n",
    "List3=List1+List2\n",
    "print(List3)"
   ]
  },
  {
   "cell_type": "code",
   "execution_count": 15,
   "metadata": {},
   "outputs": [
    {
     "name": "stdout",
     "output_type": "stream",
     "text": [
      "[3, 5, 8]\n"
     ]
    }
   ],
   "source": [
    "#3. Extract Elements from a List\n",
    "#Given a list of numbers, extract the first, middle, and last elements and store them in a new list.\n",
    "List=[3, 6, 4, 5, 7, 2, 8]\n",
    "if len(List) % 2 == 1:\n",
    "    Newlist=[List[0], List[len(List)//2], List[-1]]\n",
    "else:\n",
    "    Newlist=[List[0], List[len(List)//2-1], List[len(List)//2], List[-1]]\n",
    "print(Newlist)        "
   ]
  },
  {
   "cell_type": "code",
   "execution_count": 17,
   "metadata": {},
   "outputs": [
    {
     "name": "stdout",
     "output_type": "stream",
     "text": [
      "('Meg', 'Abigeil', 'Divergents', 'Intersteller', 'Wednesday')\n"
     ]
    }
   ],
   "source": [
    "#4. Convert List to Tuple\n",
    "#Create a list of your five favorite movies and convert it into a tuple.\n",
    "List=['Meg', 'Abigeil', 'Divergents', 'Intersteller', 'Wednesday']\n",
    "Tuple = tuple(List)\n",
    "print (Tuple)"
   ]
  },
  {
   "cell_type": "code",
   "execution_count": 25,
   "metadata": {},
   "outputs": [
    {
     "name": "stdout",
     "output_type": "stream",
     "text": [
      "Paris in the list\n"
     ]
    }
   ],
   "source": [
    "#5. Check Element in a List\n",
    "#Given a list of cities, check if \"Paris\" is in the list and print the result.\n",
    "Cities = ['London', 'Seul', 'California', 'Miami', 'Paris']\n",
    "if 'Paris' in Cities:\n",
    "    print('Paris in the list')\n",
    "else:\n",
    "    print('No Paris')    "
   ]
  },
  {
   "cell_type": "code",
   "execution_count": 26,
   "metadata": {},
   "outputs": [
    {
     "name": "stdout",
     "output_type": "stream",
     "text": [
      "[2, 3, 4, 7, 9, 12, 18, 14, 2, 3, 4, 7, 9, 12, 18, 14]\n"
     ]
    }
   ],
   "source": [
    "#6. Duplicate a List Without Using Loops\n",
    "#Create a list of numbers and duplicate it without using loops.\n",
    "List=[2, 3, 4, 7, 9, 12, 18, 14]\n",
    "Duplicated = List*2\n",
    "print(Duplicated)"
   ]
  },
  {
   "cell_type": "code",
   "execution_count": 8,
   "metadata": {},
   "outputs": [
    {
     "name": "stdout",
     "output_type": "stream",
     "text": [
      "[14, 5, 7, 8, 12, 3]\n"
     ]
    }
   ],
   "source": [
    "#7. Swap First and Last Elements of a List\n",
    "#Given a list of numbers, swap the first and last elements.\n",
    "List = [3, 5 , 7, 8, 12, 14]\n",
    "List[0], List[-1] = List[-1], List[0]\n",
    "print(List)\n"
   ]
  },
  {
   "cell_type": "code",
   "execution_count": null,
   "metadata": {},
   "outputs": [
    {
     "data": {
      "text/plain": [
       "(3, 4, 5, 6, 7)"
      ]
     },
     "execution_count": 13,
     "metadata": {},
     "output_type": "execute_result"
    }
   ],
   "source": [
    "#8. Slice a Tuple\n",
    "#Create a tuple of numbers from 1 to 10 and print a slice from index 3 to 7.\n",
    "Tuple = (1, 2, 3, 4, 5, 6, 7, 8, 9, 10)\n",
    "a= Tuple[Tuple.index(3):Tuple.index(7)+1]\n",
    "print(a)"
   ]
  },
  {
   "cell_type": "code",
   "execution_count": 14,
   "metadata": {},
   "outputs": [
    {
     "data": {
      "text/plain": [
       "2"
      ]
     },
     "execution_count": 14,
     "metadata": {},
     "output_type": "execute_result"
    }
   ],
   "source": [
    "#9. Count Occurrences in a List\n",
    "#Create a list of colors and count how many times \"blue\" appears in the list.\n",
    "Colors = ['blue', 'green', 'grey', 'red', 'yellow', 'blue']\n",
    "Colors.count('blue')"
   ]
  },
  {
   "cell_type": "code",
   "execution_count": null,
   "metadata": {},
   "outputs": [
    {
     "data": {
      "text/plain": [
       "3"
      ]
     },
     "execution_count": 15,
     "metadata": {},
     "output_type": "execute_result"
    }
   ],
   "source": [
    "#10. Find the Index of an Element in a Tuple\n",
    "#Given a tuple of animals, find the index of \"lion\".\n",
    "Animals = ('tiger', 'snake', 'owl', 'lion', 'bear')\n",
    "print(Animals.index('lion'))\n"
   ]
  },
  {
   "cell_type": "code",
   "execution_count": 17,
   "metadata": {},
   "outputs": [
    {
     "name": "stdout",
     "output_type": "stream",
     "text": [
      "(3, 6, 7, 3, 7, 8, 14, 26, 2, 35, 63, 34, 234)\n"
     ]
    }
   ],
   "source": [
    "#11. Merge Two Tuples\n",
    "#Create two tuples of numbers and merge them into a single tuple.\n",
    "N1 = (3, 6, 7, 3, 7, 8, 14, 26)\n",
    "N2 = (2, 35, 63, 34, 234)\n",
    "Merge = N1+N2\n",
    "print(Merge)"
   ]
  },
  {
   "cell_type": "code",
   "execution_count": 23,
   "metadata": {},
   "outputs": [
    {
     "name": "stdout",
     "output_type": "stream",
     "text": [
      "6\n",
      "5\n"
     ]
    }
   ],
   "source": [
    "#12. Find the Length of a List and Tuple\n",
    "#Given a list and a tuple, find and print their lengths.\n",
    "Colors = ['blue', 'green', 'grey', 'red', 'yellow', 'blue']\n",
    "Animals = ('tiger', 'snake', 'owl', 'lion', 'bear')\n",
    "a= len(Colors)\n",
    "b= len(Animals)\n",
    "print(f'{a}\\n{b}')\n"
   ]
  },
  {
   "cell_type": "code",
   "execution_count": 26,
   "metadata": {},
   "outputs": [
    {
     "name": "stdout",
     "output_type": "stream",
     "text": [
      "[2, 35, 63, 34, 234]\n"
     ]
    }
   ],
   "source": [
    "#13. Convert Tuple to List\n",
    "#Create a tuple of five numbers and convert it into a list.\n",
    "N2 = (2, 35, 63, 34, 234)\n",
    "List = list(N2)\n",
    "print(List)"
   ]
  },
  {
   "cell_type": "code",
   "execution_count": 28,
   "metadata": {},
   "outputs": [
    {
     "name": "stdout",
     "output_type": "stream",
     "text": [
      "max = 234 and min = 1\n"
     ]
    }
   ],
   "source": [
    "#14. Find Maximum and Minimum in a Tuple\n",
    "#Given a tuple of numbers, find and print the maximum and minimum values.\n",
    "N2 = (2, 35, 63, 34, 234, 87, 43, 1, 45)\n",
    "a = max(N2)\n",
    "b= min(N2)\n",
    "print(f'max = {a} and min = {b}')"
   ]
  },
  {
   "cell_type": "code",
   "execution_count": null,
   "metadata": {},
   "outputs": [
    {
     "data": {
      "text/plain": [
       "('bear', 'lion', 'owl', 'snake', 'tiger')"
      ]
     },
     "execution_count": 29,
     "metadata": {},
     "output_type": "execute_result"
    }
   ],
   "source": [
    "#15. Reverse a Tuple\n",
    "#Create a tuple of words and print it in reverse order.\n",
    "Animals = ('tiger', 'snake', 'owl', 'lion', 'bear')\n",
    "print (Animals[::-1])\n"
   ]
  }
 ],
 "metadata": {
  "kernelspec": {
   "display_name": "Python 3",
   "language": "python",
   "name": "python3"
  },
  "language_info": {
   "codemirror_mode": {
    "name": "ipython",
    "version": 3
   },
   "file_extension": ".py",
   "mimetype": "text/x-python",
   "name": "python",
   "nbconvert_exporter": "python",
   "pygments_lexer": "ipython3",
   "version": "3.13.2"
  }
 },
 "nbformat": 4,
 "nbformat_minor": 2
}
