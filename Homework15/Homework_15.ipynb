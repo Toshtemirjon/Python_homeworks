{
 "cells": [
  {
   "cell_type": "code",
   "execution_count": null,
   "id": "3ba7e65c",
   "metadata": {},
   "outputs": [
    {
     "name": "stdout",
     "output_type": "stream",
     "text": [
      "Vulcan Individuals:\n",
      "Name: T'Lora, Age: 87\n"
     ]
    }
   ],
   "source": [
    "import sqlite3\n",
    "\n",
    "connection = sqlite3.connect(\"crew_roster.db\")\n",
    "cursor = connection.cursor()\n",
    "\n",
    "cursor.execute(\"\"\"\n",
    "CREATE TABLE IF NOT EXISTS Roster (\n",
    "    Name TEXT,\n",
    "    Species TEXT,\n",
    "    Age INTEGER\n",
    ")\n",
    "\"\"\")\n",
    "\n",
    "cursor.executemany(\"\"\"\n",
    "INSERT INTO Roster (Name, Species, Age)\n",
    "VALUES (?, ?, ?)\n",
    "\"\"\", [\n",
    "    (\"Michael Burnham\", \"Human\", 35),\n",
    "    (\"Odo Ran\", \"Changeling\", 150),\n",
    "    (\"T'Lora\", \"Vulcan\", 87)\n",
    "])\n",
    "\n",
    "cursor.execute(\"\"\"\n",
    "UPDATE Roster\n",
    "SET Name = 'Odo Prime'\n",
    "WHERE Name = 'Odo Ran'\n",
    "\"\"\")\n",
    "\n",
    "cursor.execute(\"\"\"\n",
    "SELECT Name, Age\n",
    "FROM Roster\n",
    "WHERE Species = 'Vulcan'\n",
    "\"\"\")\n",
    "results = cursor.fetchall()\n",
    "\n",
    "print(\"Vulcan Individuals:\")\n",
    "for row in results:\n",
    "    print(f\"Name: {row[0]}, Age: {row[1]}\")\n",
    "\n",
    "connection.commit()\n",
    "connection.close()\n"
   ]
  }
 ],
 "metadata": {
  "kernelspec": {
   "display_name": "Python 3",
   "language": "python",
   "name": "python3"
  },
  "language_info": {
   "codemirror_mode": {
    "name": "ipython",
    "version": 3
   },
   "file_extension": ".py",
   "mimetype": "text/x-python",
   "name": "python",
   "nbconvert_exporter": "python",
   "pygments_lexer": "ipython3",
   "version": "3.13.2"
  }
 },
 "nbformat": 4,
 "nbformat_minor": 5
}
