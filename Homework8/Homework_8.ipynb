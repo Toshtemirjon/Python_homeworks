{
 "cells": [
  {
   "cell_type": "code",
   "execution_count": null,
   "id": "b4a7becc",
   "metadata": {},
   "outputs": [],
   "source": [
    "#Exception Handling Exercises"
   ]
  },
  {
   "cell_type": "code",
   "execution_count": 7,
   "id": "b4526217",
   "metadata": {},
   "outputs": [
    {
     "name": "stdout",
     "output_type": "stream",
     "text": [
      "Error: Cannot divide by zero!\n"
     ]
    }
   ],
   "source": [
    "#1 Write a Python program to handle a ZeroDivisionError exception when dividing a number by zero.\n",
    "try:\n",
    "    numerator = float(input(\"Enter the numerator: \"))\n",
    "    denominator = float(input(\"Enter the denominator: \"))\n",
    "    result = numerator / denominator\n",
    "    print(\"Result:\", result)\n",
    "except ZeroDivisionError:\n",
    "    print(\"Error: Cannot divide by zero!\")\n"
   ]
  },
  {
   "cell_type": "code",
   "execution_count": 9,
   "id": "868fb13f",
   "metadata": {},
   "outputs": [
    {
     "name": "stdout",
     "output_type": "stream",
     "text": [
      "654\n"
     ]
    }
   ],
   "source": [
    "#2 Write a Python program that prompts the user to input an integer and raises a ValueError exception if the input is not a valid integer.\n",
    "try:\n",
    "    number = int(input(\"Enter the number: \"))\n",
    "    print(number)\n",
    "except ValueError:\n",
    "    print(\"Enter a valid integer\")"
   ]
  },
  {
   "cell_type": "code",
   "execution_count": null,
   "id": "c9c36b6c",
   "metadata": {},
   "outputs": [
    {
     "name": "stdout",
     "output_type": "stream",
     "text": [
      "Error: The file 'Error' was not found.\n"
     ]
    }
   ],
   "source": [
    "#3 Write a Python program that opens a file and handles a FileNotFoundError exception if the file does not exist.\n",
    "try:\n",
    "    filename = input(\"Enter the filename: \")\n",
    "    with open(filename, 'r') as file:\n",
    "        file_content = file.read()\n",
    "        if file_content:\n",
    "            print(file_content)\n",
    "        else:\n",
    "            print(\"The file is empty.\")\n",
    "except FileNotFoundError:\n",
    "    print(f\"Error: The file '{filename}' was not found.\")"
   ]
  },
  {
   "cell_type": "code",
   "execution_count": null,
   "id": "c64f8a00",
   "metadata": {},
   "outputs": [],
   "source": [
    "#4 Write a Python program that prompts the user to input two numbers and raises a TypeError exception if the inputs are not numerical.\n",
    "try:\n",
    "    num1 = input(\"Enter the first number: \")\n",
    "    num2 = input(\"Enter the second number: \")\n",
    "    num1 = float(num1)\n",
    "    num2 = float(num2)\n",
    "    print(f\"The first number is: {num1}\")\n",
    "    print(f\"The second number is: {num2}\")\n",
    "\n",
    "except ValueError:\n",
    "    print(\"Error: Please enter valid numerical values (either integer or float).\")\n",
    "except TypeError:\n",
    "    print(\"Error: Invalid data type provided.\")\n"
   ]
  },
  {
   "cell_type": "code",
   "execution_count": null,
   "id": "60e6c356",
   "metadata": {},
   "outputs": [],
   "source": [
    "#5 Write a Python program that opens a file and handles a PermissionError exception if there is a permission issue.\n",
    "try:\n",
    "    filename = input(\"Enter the filename: \")\n",
    "    with open(filename, 'r') as file:\n",
    "        print(\"File contents:\")\n",
    "        print(file.read())\n",
    "\n",
    "except PermissionError:\n",
    "    print(f\"Error: Permission denied to access '{filename}'.\")\n",
    "except FileNotFoundError:\n",
    "    print(f\"Error: The file '{filename}' was not found.\")\n"
   ]
  },
  {
   "cell_type": "code",
   "execution_count": null,
   "id": "df3ff5af",
   "metadata": {},
   "outputs": [
    {
     "name": "stdout",
     "output_type": "stream",
     "text": [
      "The element at index 2 is: 30\n"
     ]
    }
   ],
   "source": [
    "#6 Write a Python program that executes an operation on a list and handles an IndexError exception if the index is out of range.\n",
    "try:\n",
    "    my_list = [10, 20, 30, 40, 50]\n",
    "    index = int(input(\"Enter the index to access an element from the list: \"))\n",
    "    print(f\"The element at index {index} is: {my_list[index]}\")\n",
    "except IndexError:\n",
    "    print(f\"Error: Index {index} is out of range. Please enter a valid index between 0 and {len(my_list)-1}.\")\n",
    "except ValueError:\n",
    "    print(\"Error: Please enter a valid integer as the index.\")\n"
   ]
  },
  {
   "cell_type": "code",
   "execution_count": 1,
   "id": "38b0a9a1",
   "metadata": {},
   "outputs": [
    {
     "name": "stdout",
     "output_type": "stream",
     "text": [
      "Error: Please enter a valid integer.\n"
     ]
    }
   ],
   "source": [
    "#7 Write a Python program that prompts the user to input a number and handles a KeyboardInterrupt exception if the user cancels the input.\n",
    "try:\n",
    "    number = int(input(\"Please enter a number: \"))\n",
    "    print(f\"You entered: {number}\")\n",
    "\n",
    "except KeyboardInterrupt:\n",
    "    print(\"\\nInput was canceled. Exiting program.\")\n",
    "except ValueError:\n",
    "    print(\"Error: Please enter a valid integer.\")\n"
   ]
  },
  {
   "cell_type": "code",
   "execution_count": 5,
   "id": "ca3650dd",
   "metadata": {},
   "outputs": [
    {
     "name": "stdout",
     "output_type": "stream",
     "text": [
      "Error: Arithnetical error!\n"
     ]
    }
   ],
   "source": [
    "#8 Write a Python program that executes division and handles an ArithmeticError exception if there is an arithmetic error.\n",
    "try:\n",
    "    numerator = float(input(\"Enter the numerator: \"))\n",
    "    denominator = float(input(\"Enter the denominator: \"))\n",
    "    result = numerator / denominator\n",
    "    print(\"Result:\", result)\n",
    "except ArithmeticError:\n",
    "    print(\"Error: Arithnetical error!\")"
   ]
  },
  {
   "cell_type": "code",
   "execution_count": null,
   "id": "eeb2cdf7",
   "metadata": {},
   "outputs": [],
   "source": [
    "#9 Write a Python program that opens a file and handles a UnicodeDecodeError exception if there is an encoding issue.\n",
    "file_path = input(\"Please enter the file path: \")\n",
    "\n",
    "try:\n",
    "    with open(file_path, 'r', encoding='utf-8') as file:\n",
    "        content = file.read()\n",
    "        print(content)\n",
    "except UnicodeDecodeError:\n",
    "    print(\"There was an error decoding the file. It might have an encoding issue.\")\n",
    "except FileNotFoundError:\n",
    "    print(\"The file was not found. Please check the file path.\")\n",
    "except Exception as e:\n",
    "    print(f\"An unexpected error occurred: {e}\")\n",
    "\n"
   ]
  },
  {
   "cell_type": "code",
   "execution_count": null,
   "id": "688f20a5",
   "metadata": {},
   "outputs": [
    {
     "name": "stdout",
     "output_type": "stream",
     "text": [
      "There was an error: The list does not have this attribute or method.\n",
      "Current list: [1, 2, 3, 4, 5]\n"
     ]
    }
   ],
   "source": [
    "#10 Write a Python program that executes a list operation and handles an AttributeError exception if the attribute does not exist.\n",
    "my_list = [1, 2, 3, 4, 5]\n",
    "\n",
    "try:\n",
    "    my_list.appendleft(6)\n",
    "except AttributeError:\n",
    "    print(\"There was an error: The list does not have this attribute or method.\")\n",
    "except Exception as e:\n",
    "    print(f\"An unexpected error occurred: {e}\")\n",
    "\n",
    "print(\"Current list:\", my_list)\n"
   ]
  },
  {
   "cell_type": "code",
   "execution_count": null,
   "id": "6f50cf4c",
   "metadata": {},
   "outputs": [],
   "source": [
    "# File Input/Output Exercises"
   ]
  },
  {
   "cell_type": "code",
   "execution_count": null,
   "id": "efe3a61b",
   "metadata": {},
   "outputs": [],
   "source": [
    "#1 Write a Python program to read an entire text file.\n",
    "with open('name.txt', 'r') as file:\n",
    "    content = file.read()\n",
    "    print(content)\n"
   ]
  },
  {
   "cell_type": "code",
   "execution_count": null,
   "id": "d1476aff",
   "metadata": {},
   "outputs": [],
   "source": [
    "#2 Write a Python program to read first n lines of a file.\n",
    "with open('example.txt', 'r') as file:\n",
    "    n = 3\n",
    "    for i in range(n):  \n",
    "        print(file.readline().strip())\n",
    "\n"
   ]
  },
  {
   "cell_type": "code",
   "execution_count": null,
   "id": "a1ad3967",
   "metadata": {},
   "outputs": [],
   "source": [
    "#3 Write a Python program to append text to a file and display the text.\n",
    "with open('example.txt', 'a') as file:\n",
    "    file.write('\\nThis is the new line.')\n",
    "\n",
    "with open('example.txt', 'r') as file:\n",
    "    content = file.read()\n",
    "    print(content)\n"
   ]
  },
  {
   "cell_type": "code",
   "execution_count": 25,
   "id": "8a086404",
   "metadata": {},
   "outputs": [
    {
     "name": "stdout",
     "output_type": "stream",
     "text": [
      "\n",
      "This is the new line.\n"
     ]
    }
   ],
   "source": [
    "#4 Write a Python program to read last n lines of a file.\n",
    "with open('example.txt', 'r') as f:\n",
    "    lines = f.readlines()\n",
    "    n = -2\n",
    "    for line in lines[n:]:  \n",
    "        print(line.strip())\n"
   ]
  },
  {
   "cell_type": "code",
   "execution_count": null,
   "id": "edfba1e3",
   "metadata": {},
   "outputs": [],
   "source": [
    "#5 Write a Python program to read a file line by line and store it into a list.\n",
    "with open('example.txt', 'r') as f:\n",
    "    lines = [line.strip() for line in f]\n",
    "\n",
    "print(lines)\n"
   ]
  },
  {
   "cell_type": "code",
   "execution_count": null,
   "id": "e3246361",
   "metadata": {},
   "outputs": [],
   "source": [
    "#6 Write a Python program to read a file line by line and store it into a variable.\n",
    "with open('example.txt', 'r') as f:\n",
    "    content = ''.join(f.readlines())\n",
    "\n",
    "print(content)\n"
   ]
  },
  {
   "cell_type": "code",
   "execution_count": null,
   "id": "262dd781",
   "metadata": {},
   "outputs": [],
   "source": [
    "#7 Write a Python program to read a file line by line and store it into an array.\n",
    "with open('example.txt', 'r') as f:\n",
    "    lines = f.readlines()\n",
    "\n",
    "print(lines)\n"
   ]
  },
  {
   "cell_type": "code",
   "execution_count": null,
   "id": "2c797088",
   "metadata": {},
   "outputs": [],
   "source": [
    "#8 Write a Python program to find the longest words.\n",
    "with open('example.txt', 'r') as f:\n",
    "    words = f.read().split()\n",
    "\n",
    "max_len = max(len(word) for word in words)\n",
    "longest_words = [word for word in words if len(word) == max_len]\n",
    "\n",
    "print(\"Longest word(s):\", longest_words)\n"
   ]
  },
  {
   "cell_type": "code",
   "execution_count": 30,
   "id": "90dcde40",
   "metadata": {},
   "outputs": [
    {
     "name": "stdout",
     "output_type": "stream",
     "text": [
      "Number of lines: 7\n"
     ]
    }
   ],
   "source": [
    "#9 Write a Python program to count the number of lines in a text file.\n",
    "with open('example.txt', 'r') as f:\n",
    "    line_count = sum(1 for line in f)\n",
    "\n",
    "print(\"Number of lines:\", line_count)\n"
   ]
  },
  {
   "cell_type": "code",
   "execution_count": null,
   "id": "fc60a9e0",
   "metadata": {},
   "outputs": [],
   "source": [
    "#10 Write a Python program to count the frequency of words in a file.\n",
    "from collections import Counter\n",
    "with open('example.txt', 'r') as f:\n",
    "    words = f.read().lower().split()\n",
    "word_count = Counter(words)\n",
    "print(\"Word frequencies:\")\n",
    "for word, count in word_count.items():\n",
    "    print(f\"{word}: {count}\")\n"
   ]
  },
  {
   "cell_type": "code",
   "execution_count": null,
   "id": "434a9d49",
   "metadata": {},
   "outputs": [
    {
     "name": "stdout",
     "output_type": "stream",
     "text": [
      "File size: 76 bytes\n"
     ]
    }
   ],
   "source": [
    "#11 Write a Python program to get the file size of a plain file.\n",
    "import os\n",
    "file_path = 'example.txt'  \n",
    "size = os.path.getsize(file_path)\n",
    "print(f\"File size: {size} bytes\")\n"
   ]
  },
  {
   "cell_type": "code",
   "execution_count": null,
   "id": "9a91c31d",
   "metadata": {},
   "outputs": [],
   "source": [
    "#12 Write a Python program to write a list to a file.\n",
    "my_list = ['apple', 'banana', 'cherry']\n",
    "\n",
    "with open('example.txt', 'w') as f:\n",
    "    for item in my_list:\n",
    "        f.write(item + '\\n')\n",
    "\n",
    "with open('example.txt', 'r') as file:\n",
    "    content = file.read()\n",
    "    print(content)\n"
   ]
  },
  {
   "cell_type": "code",
   "execution_count": null,
   "id": "3ed896c8",
   "metadata": {},
   "outputs": [],
   "source": [
    "#13 Write a Python program to copy the contents of a file to another file.\n",
    "with open('example.txt', 'r') as src:\n",
    "    content = src.read()\n",
    "\n",
    "with open('destination.txt', 'w') as dest:\n",
    "    dest.write(content)\n"
   ]
  },
  {
   "cell_type": "code",
   "execution_count": 41,
   "id": "3ff5a505",
   "metadata": {},
   "outputs": [
    {
     "name": "stdout",
     "output_type": "stream",
     "text": [
      "apple apple\n",
      "banana banana\n",
      "cherry cherry\n"
     ]
    }
   ],
   "source": [
    "#14 Write a Python program to combine each line from the first file with the corresponding line in the second file.\n",
    "with open('example.txt', 'r') as f1, open('destination.txt', 'r') as f2:\n",
    "    for line1, line2 in zip(f1, f2):\n",
    "        combined = line1.strip() + ' ' + line2.strip()\n",
    "        print(combined)\n"
   ]
  },
  {
   "cell_type": "code",
   "execution_count": 51,
   "id": "36ccf0cc",
   "metadata": {},
   "outputs": [
    {
     "name": "stdout",
     "output_type": "stream",
     "text": [
      "Random line: banana\n"
     ]
    }
   ],
   "source": [
    "#15 Write a Python program to read a random line from a file.\n",
    "import random\n",
    "with open('example.txt', 'r') as f:\n",
    "    lines = f.readlines()\n",
    "\n",
    "random_line = random.choice(lines).strip()\n",
    "print(\"Random line:\", random_line)\n"
   ]
  },
  {
   "cell_type": "code",
   "execution_count": null,
   "id": "b701c30c",
   "metadata": {},
   "outputs": [
    {
     "name": "stdout",
     "output_type": "stream",
     "text": [
      "Is file closed? False\n",
      "Is file closed? True\n"
     ]
    }
   ],
   "source": [
    "#16 Write a Python program to assess if a file is closed or not.\n",
    "f = open('example.txt', 'r')\n",
    "print(\"Is file closed?\", f.closed)  \n",
    "\n",
    "f.close()\n",
    "print(\"Is file closed?\", f.closed)  \n"
   ]
  },
  {
   "cell_type": "code",
   "execution_count": 54,
   "id": "a1ab80bf",
   "metadata": {},
   "outputs": [
    {
     "name": "stdout",
     "output_type": "stream",
     "text": [
      "applebananacherry\n"
     ]
    }
   ],
   "source": [
    "#17 Write a Python program to remove newline characters from a file.\n",
    "# Remove newline characters from a file\n",
    "with open('example.txt', 'r') as f:\n",
    "    content = f.read().replace('\\n', '')\n",
    "\n",
    "with open('cleaned.txt', 'w') as f:\n",
    "    f.write(content)\n",
    "print(content)"
   ]
  },
  {
   "cell_type": "code",
   "execution_count": 56,
   "id": "6fd7f484",
   "metadata": {},
   "outputs": [
    {
     "name": "stdout",
     "output_type": "stream",
     "text": [
      "Number of words: 3\n"
     ]
    }
   ],
   "source": [
    "#18 Write a Python program that takes a text file as input and returns the number of words in a given text file.\n",
    "import re\n",
    "file_name = input(\"Enter the filename: \")\n",
    "\n",
    "try:\n",
    "    with open(file_name, 'r') as f:\n",
    "        text = f.read()\n",
    "        words = re.findall(r'\\b\\w+\\b', text)\n",
    "        print(\"Number of words:\", len(words))\n",
    "except FileNotFoundError:\n",
    "    print(\"File not found. Please check the filename.\")\n"
   ]
  },
  {
   "cell_type": "code",
   "execution_count": 57,
   "id": "0809513a",
   "metadata": {},
   "outputs": [
    {
     "name": "stdout",
     "output_type": "stream",
     "text": [
      "['a', 'p', 'p', 'l', 'e', '\\n', 'b', 'a', 'n', 'a', 'n', 'a', '\\n', 'c', 'h', 'e', 'r', 'r', 'y', '\\n']\n"
     ]
    }
   ],
   "source": [
    "#19 Write a Python program to extract characters from various text files and put them into a list.\n",
    "char_list = []\n",
    "\n",
    "with open('example.txt', 'r') as f:\n",
    "    for line in f:\n",
    "        for char in line:\n",
    "            char_list.append(char)\n",
    "\n",
    "print(char_list)\n",
    "\n"
   ]
  },
  {
   "cell_type": "code",
   "execution_count": 58,
   "id": "9f6bd377",
   "metadata": {},
   "outputs": [],
   "source": [
    "#20 Write a Python program to generate 26 text files named A.txt, B.txt, and so on up to Z.txt.\n",
    "import string\n",
    "for letter in string.ascii_uppercase:\n",
    "    file_name = f\"{letter}.txt\"\n",
    "    with open(file_name, 'w') as f:\n",
    "        f.write(f\"This is file {file_name}\")\n"
   ]
  },
  {
   "cell_type": "code",
   "execution_count": 66,
   "id": "fe51df2a",
   "metadata": {},
   "outputs": [
    {
     "name": "stdout",
     "output_type": "stream",
     "text": [
      "abcdefg\n",
      "hijklmn\n",
      "opqrstu\n",
      "vwxyz\n"
     ]
    }
   ],
   "source": [
    "#21 Write a Python program to create a file where all letters of the English alphabet are listed with a specified number of letters on each line.\n",
    "import string\n",
    "letters_per_line = int(input(\"Enter number of letters per line: \"))\n",
    "alphabet = string.ascii_lowercase\n",
    "with open('alphabet.txt', 'w') as f:\n",
    "    for i in range(0, len(alphabet), letters_per_line):\n",
    "        line = alphabet[i:i+letters_per_line]\n",
    "        f.write(line + '\\n')\n",
    "        print(line)  \n"
   ]
  }
 ],
 "metadata": {
  "kernelspec": {
   "display_name": "Python 3",
   "language": "python",
   "name": "python3"
  },
  "language_info": {
   "codemirror_mode": {
    "name": "ipython",
    "version": 3
   },
   "file_extension": ".py",
   "mimetype": "text/x-python",
   "name": "python",
   "nbconvert_exporter": "python",
   "pygments_lexer": "ipython3",
   "version": "3.13.2"
  }
 },
 "nbformat": 4,
 "nbformat_minor": 5
}
