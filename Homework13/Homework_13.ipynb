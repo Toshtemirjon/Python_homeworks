{
 "cells": [
  {
   "cell_type": "code",
   "execution_count": 10,
   "id": "f4e87557",
   "metadata": {},
   "outputs": [
    {
     "name": "stdout",
     "output_type": "stream",
     "text": [
      "Your age is: 14 years, 3 months, and 4 days.\n"
     ]
    }
   ],
   "source": [
    "from datetime import date\n",
    "\n",
    "def calculate_age(birthdate):\n",
    "    today = date.today()\n",
    "    \n",
    "    age_years = today.year - birthdate.year\n",
    "    age_months = today.month - birthdate.month\n",
    "    age_days = today.day - birthdate.day\n",
    "    if age_days < 0:\n",
    "        age_months -= 1\n",
    "        last_month = today.replace(day=1) - date.resolution\n",
    "        age_days += last_month.day\n",
    "    \n",
    "    if age_months < 0:\n",
    "        age_years -= 1\n",
    "        age_months += 12\n",
    "    \n",
    "    return age_years, age_months, age_days\n",
    "birthdate_input = input(\"Enter your birthdate (YYYY-MM-DD): \")\n",
    "year, month, day = map(int, birthdate_input.split('-'))\n",
    "birthdate = date(year, month, day)\n",
    "years, months, days = calculate_age(birthdate)\n",
    "print(f\"Your age is: {years} years, {months} months, and {days} days.\")"
   ]
  },
  {
   "cell_type": "code",
   "execution_count": null,
   "id": "c6658b3f",
   "metadata": {},
   "outputs": [
    {
     "name": "stdout",
     "output_type": "stream",
     "text": [
      "⏳ There are 271 days until your next birthday!\n"
     ]
    }
   ],
   "source": [
    "#2 Days Until Next Birthday: Similar to the first exercise, but this time, calculate \n",
    "# and print the number of days remaining until the user's next birthday.\n",
    "from datetime import date\n",
    "\n",
    "def days_until_next_birthday(birthdate):\n",
    "    today = date.today()\n",
    "    \n",
    "    next_birthday = date(today.year, birthdate.month, birthdate.day)\n",
    "    \n",
    "    if next_birthday < today:  # Birthday already passed this year\n",
    "        next_birthday = date(today.year + 1, birthdate.month, birthdate.day)\n",
    "    \n",
    "    days_left = (next_birthday - today).days\n",
    "    return days_left\n",
    "\n",
    "# Get user input (YYYY-MM-DD)\n",
    "birthdate_input = input(\"Enter your birthdate (YYYY-MM-DD): \")\n",
    "year, month, day = map(int, birthdate_input.split('-'))\n",
    "birthdate = date(year, month, day)\n",
    "\n",
    "days_left = days_until_next_birthday(birthdate)\n",
    "\n",
    "if days_left == 0:\n",
    "    print(\"🎉 Happy Birthday! 🎉\")\n",
    "else:\n",
    "    print(f\"⏳ There are {days_left} days until your next birthday!\")"
   ]
  },
  {
   "cell_type": "code",
   "execution_count": 1,
   "id": "7424a50f",
   "metadata": {},
   "outputs": [
    {
     "name": "stdout",
     "output_type": "stream",
     "text": [
      "The meeting will end at: 2025-05-10 23:22\n"
     ]
    }
   ],
   "source": [
    "# 3. Meeting Scheduler: Ask the user to enter the current date and time, as well as the duration\n",
    "#  of a meeting in hours and minutes. Calculate and print the date and time when the meeting will end.\n",
    "from datetime import datetime, timedelta\n",
    "\n",
    "current_datetime = input(\"Enter the current date and time (YYYY-MM-DD HH:MM): \")\n",
    "\n",
    "current_datetime = datetime.strptime(current_datetime, \"%Y-%m-%d %H:%M\")\n",
    "\n",
    "hours = int(input(\"Enter the meeting duration in hours: \"))\n",
    "minutes = int(input(\"Enter the meeting duration in minutes: \"))\n",
    "\n",
    "meeting_duration = timedelta(hours=hours, minutes=minutes)\n",
    "end_datetime = current_datetime + meeting_duration\n",
    "\n",
    "print(f\"The meeting will end at: {end_datetime.strftime('%Y-%m-%d %H:%M')}\")"
   ]
  },
  {
   "cell_type": "code",
   "execution_count": null,
   "id": "78e37c7d",
   "metadata": {},
   "outputs": [
    {
     "name": "stdout",
     "output_type": "stream",
     "text": [
      "The date and time in Europe/London is: 2025-05-12 10:30\n"
     ]
    }
   ],
   "source": [
    "from datetime import datetime\n",
    "import pytz\n",
    "\n",
    "current_datetime_str = input(\"Enter the date and time (YYYY-MM-DD HH:MM): \")\n",
    "current_timezone = input(\"Enter your current timezone (e.g., 'US/Eastern'): \")\n",
    "target_timezone = input(\"Enter the target timezone (e.g., 'Europe/London'): \")\n",
    "\n",
    "try:\n",
    "    naive_datetime = datetime.strptime(current_datetime_str, \"%Y-%m-%d %H:%M\")\n",
    "except ValueError:\n",
    "    print(\"Invalid datetime format. Please use YYYY-MM-DD HH:MM.\")\n",
    "    exit()\n",
    "\n",
    "try:\n",
    "    local_tz = pytz.timezone(current_timezone)\n",
    "    localized_datetime = local_tz.localize(naive_datetime)\n",
    "\n",
    "    target_tz = pytz.timezone(target_timezone)\n",
    "    converted_datetime = localized_datetime.astimezone(target_tz)\n",
    "\n",
    "    print(f\"The date and time in {target_timezone} is: {converted_datetime.strftime('%Y-%m-%d %H:%M')}\")\n",
    "except pytz.UnknownTimeZoneError:\n",
    "    print(\"Invalid timezone. Please enter a valid timezone name.\")\n"
   ]
  },
  {
   "cell_type": "code",
   "execution_count": null,
   "id": "cd4bc2a5",
   "metadata": {},
   "outputs": [
    {
     "name": "stdout",
     "output_type": "stream",
     "text": [
      "Time remaining: 1097 days, 20 hours, 59 minutes, 20 seconds\r"
     ]
    },
    {
     "ename": "KeyboardInterrupt",
     "evalue": "",
     "output_type": "error",
     "traceback": [
      "\u001b[31m---------------------------------------------------------------------------\u001b[39m",
      "\u001b[31mKeyboardInterrupt\u001b[39m                         Traceback (most recent call last)",
      "\u001b[36mCell\u001b[39m\u001b[36m \u001b[39m\u001b[32mIn[6]\u001b[39m\u001b[32m, line 34\u001b[39m\n\u001b[32m     31\u001b[39m \u001b[38;5;28mprint\u001b[39m(\u001b[33mf\u001b[39m\u001b[33m\"\u001b[39m\u001b[33mTime remaining: \u001b[39m\u001b[38;5;132;01m{\u001b[39;00mdays\u001b[38;5;132;01m}\u001b[39;00m\u001b[33m days, \u001b[39m\u001b[38;5;132;01m{\u001b[39;00mhours\u001b[38;5;132;01m}\u001b[39;00m\u001b[33m hours, \u001b[39m\u001b[38;5;132;01m{\u001b[39;00mminutes\u001b[38;5;132;01m}\u001b[39;00m\u001b[33m minutes, \u001b[39m\u001b[38;5;132;01m{\u001b[39;00mseconds\u001b[38;5;132;01m}\u001b[39;00m\u001b[33m seconds\u001b[39m\u001b[33m\"\u001b[39m, end=\u001b[33m\"\u001b[39m\u001b[38;5;130;01m\\r\u001b[39;00m\u001b[33m\"\u001b[39m)\n\u001b[32m     33\u001b[39m \u001b[38;5;66;03m# Wait for 1 second\u001b[39;00m\n\u001b[32m---> \u001b[39m\u001b[32m34\u001b[39m \u001b[43mtime\u001b[49m\u001b[43m.\u001b[49m\u001b[43msleep\u001b[49m\u001b[43m(\u001b[49m\u001b[32;43m1\u001b[39;49m\u001b[43m)\u001b[49m\n",
      "\u001b[31mKeyboardInterrupt\u001b[39m: "
     ]
    }
   ],
   "source": [
    "# 5. Countdown Timer: Implement a countdown timer. Ask the user to input a future date and time,\n",
    "#  and then continuously print the time remaining until that point in regular intervals (e.g., every second).\n",
    "from datetime import datetime\n",
    "import time\n",
    "\n",
    "future_datetime = input(\"Enter a future date and time (YYYY-MM-DD HH:MM): \")\n",
    "\n",
    "future_datetime = datetime.strptime(future_datetime, \"%Y-%m-%d %H:%M\")\n",
    "\n",
    "while True:\n",
    "    now = datetime.now()\n",
    "\n",
    "    time_remaining = future_datetime - now\n",
    "\n",
    "    if time_remaining.total_seconds() <= 0:\n",
    "        print(\"The countdown has ended!\")\n",
    "        break\n",
    "    \n",
    "    days = time_remaining.days\n",
    "    hours, remainder = divmod(time_remaining.seconds, 3600)\n",
    "    minutes, seconds = divmod(remainder, 60)\n",
    "\n",
    "    print(f\"Time remaining: {days} days, {hours} hours, {minutes} minutes, {seconds} seconds\", end=\"\\r\")\n",
    "    \n",
    "    time.sleep(1)"
   ]
  },
  {
   "cell_type": "code",
   "execution_count": null,
   "id": "015e3018",
   "metadata": {},
   "outputs": [
    {
     "name": "stdout",
     "output_type": "stream",
     "text": [
      "The email address is valid.\n"
     ]
    }
   ],
   "source": [
    "# 6. Email Validator: Write a program that validates email addresses. Ask the \n",
    "# user to input an email address, and check if it follows a valid email format.\n",
    "import re\n",
    "\n",
    "email = input(\"Enter an email address: \")\n",
    "\n",
    "email_regex = r'^[a-zA-Z0-9._%+-]+@[a-zA-Z0-9.-]+\\.[a-zA-Z]{2,}$'\n",
    "\n",
    "if re.match(email_regex, email):\n",
    "    print(\"The email address is valid.\")\n",
    "else:\n",
    "    print(\"The email address is invalid.\")"
   ]
  },
  {
   "cell_type": "code",
   "execution_count": 10,
   "id": "6e3d8e68",
   "metadata": {},
   "outputs": [
    {
     "name": "stdout",
     "output_type": "stream",
     "text": [
      "Formatted Phone Number: (998) 330-1030\n"
     ]
    }
   ],
   "source": [
    "# 7. Phone Number Formatter: Create a program that takes a phone number as input and \n",
    "# formats it according to a standard format. For example, convert \"1234567890\" to \"(123) 456-7890\".\n",
    "import re\n",
    "\n",
    "phone_number = input(\"Enter a 10-digit phone number: \")\n",
    "\n",
    "phone_regex = r'^(\\d{3})(\\d{3})(\\d{4})$'\n",
    "\n",
    "match = re.match(phone_regex, phone_number)\n",
    "\n",
    "if match:\n",
    "    formatted_number = f\"({match.group(1)}) {match.group(2)}-{match.group(3)}\"\n",
    "    print(f\"Formatted Phone Number: {formatted_number}\")\n",
    "else:\n",
    "    print(\"Invalid phone number. Please enter a 10-digit number.\")"
   ]
  },
  {
   "cell_type": "code",
   "execution_count": null,
   "id": "7988a11a",
   "metadata": {},
   "outputs": [
    {
     "name": "stdout",
     "output_type": "stream",
     "text": [
      "The password is weak. Please ensure it meets the following criteria:\n",
      "- Contains at least one uppercase letter\n",
      "- Contains at least one lowercase letter\n"
     ]
    }
   ],
   "source": [
    "# 8. Password Strength Checker: Implement a password strength checker. Ask the user to input a password and check if it meets certain criteria (e.g., minimum length, contains at least one uppercase letter, one lowercase letter, and one digit).\n",
    "import re\n",
    "\n",
    "password = input(\"Enter a password: \")\n",
    "\n",
    "criteria = {\n",
    "    \"length\": len(password) >= 8,\n",
    "    \"uppercase\": bool(re.search(r'[A-Z]', password)),\n",
    "    \"lowercase\": bool(re.search(r'[a-z]', password)),\n",
    "    \"digit\": bool(re.search(r'\\d', password))\n",
    "}\n",
    "\n",
    "if all(criteria.values()):\n",
    "    print(\"The password is strong.\")\n",
    "else:\n",
    "    print(\"The password is weak. Please ensure it meets the following criteria:\")\n",
    "    if not criteria[\"length\"]:\n",
    "        print(\"- At least 8 characters long\")\n",
    "    if not criteria[\"uppercase\"]:\n",
    "        print(\"- Contains at least one uppercase letter\")\n",
    "    if not criteria[\"lowercase\"]:\n",
    "        print(\"- Contains at least one lowercase letter\")\n",
    "    if not criteria[\"digit\"]:\n",
    "        print(\"- Contains at least one digit\")"
   ]
  },
  {
   "cell_type": "code",
   "execution_count": 11,
   "id": "6348cfd3",
   "metadata": {},
   "outputs": [
    {
     "name": "stdout",
     "output_type": "stream",
     "text": [
      "'giza' appeared 1 times at positions: [17]\n"
     ]
    }
   ],
   "source": [
    "# 9. Word Finder: Locate all instances of a word within a predefined text\n",
    "\n",
    "text = \"\"\"\n",
    "Egypt is a country rich in history and culture. It is home to the ancient pyramids of Giza,\n",
    "the Great Sphinx, and the Nile River — the longest river in the world. Egypt's capital,\n",
    "Cairo, is one of the largest cities in Africa and the Middle East. Tourists visit Egypt\n",
    "to explore its temples, museums, and archaeological treasures.\n",
    "\"\"\"\n",
    "\n",
    "search_word = input(\"Which word would you like to search for? \").strip()\n",
    "\n",
    "matches = [index for index, w in enumerate(text.split()) if w.strip(\".,'\\\"—\").lower() == search_word.lower()]\n",
    "\n",
    "if matches:\n",
    "    print(f\"'{search_word}' appeared {len(matches)} times at positions: {matches}\")\n",
    "else:\n",
    "    print(f\"No matches found for '{search_word}'.\")\n"
   ]
  },
  {
   "cell_type": "code",
   "execution_count": 12,
   "id": "47918e74",
   "metadata": {},
   "outputs": [
    {
     "name": "stdout",
     "output_type": "stream",
     "text": [
      "Dates found in the text:\n",
      "- 2023-05-17\n",
      "- 10/06/2023\n"
     ]
    }
   ],
   "source": [
    "# 10. Date Extractor: Write a program that extracts dates from a given text. Ask the user to input a text,\n",
    "#  and then identify and print all the dates present in the text.\n",
    "import re\n",
    "\n",
    "text = input(\"Enter a text: \")\n",
    "\n",
    "# Define a regular expression to match dates in various formats (e.g., YYYY-MM-DD, DD/MM/YYYY, MM-DD-YYYY)\n",
    "date_regex = r'\\b(?:\\d{4}-\\d{2}-\\d{2}|\\d{2}/\\d{2}/\\d{4}|\\d{2}-\\d{2}-\\d{4})\\b'\n",
    "\n",
    "dates = re.findall(date_regex, text)\n",
    "\n",
    "if dates:\n",
    "    print(\"Dates found in the text:\")\n",
    "    for date in dates:\n",
    "        print(f\"- {date}\")\n",
    "else:\n",
    "    print(\"No dates were found in the text.\")"
   ]
  }
 ],
 "metadata": {
  "kernelspec": {
   "display_name": "Python 3",
   "language": "python",
   "name": "python3"
  },
  "language_info": {
   "codemirror_mode": {
    "name": "ipython",
    "version": 3
   },
   "file_extension": ".py",
   "mimetype": "text/x-python",
   "name": "python",
   "nbconvert_exporter": "python",
   "pygments_lexer": "ipython3",
   "version": "3.13.2"
  }
 },
 "nbformat": 4,
 "nbformat_minor": 5
}
