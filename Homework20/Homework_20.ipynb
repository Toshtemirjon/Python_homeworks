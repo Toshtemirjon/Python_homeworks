{
 "cells": [
  {
   "cell_type": "code",
   "execution_count": null,
   "id": "1d74aeb1",
   "metadata": {},
   "outputs": [],
   "source": [
    "import sqlalchemy as sa\n",
    "import pandas as pd\n",
    "\n",
    "# SQLite connection string\n",
    "connection = 'sqlite:///chinook.db' \n",
    "engine = sa.create_engine(connection)\n",
    "con = engine.connect()\n",
    "\n",
    "albums = pd.read_sql(\"SELECT * FROM albums\", con=con)\n",
    "sqlite_sequence = pd.read_sql(\"SELECT * FROM sqlite_sequence\", con=con)\n",
    "artists = pd.read_sql(\"SELECT * FROM artists\", con=con)\n",
    "customers = pd.read_sql(\"SELECT * FROM customers\", con=con)\n",
    "employees = pd.read_sql(\"SELECT * FROM employees\", con=con)\n",
    "genres = pd.read_sql(\"SELECT * FROM genres\", con=con)\n",
    "invoices = pd.read_sql(\"SELECT * FROM invoices\", con=con)\n",
    "invoice_items = pd.read_sql(\"SELECT * FROM invoice_items\", con=con)\n",
    "media_types = pd.read_sql(\"SELECT * FROM media_types\", con=con)\n",
    "playlists = pd.read_sql(\"SELECT * FROM playlists\", con=con)\n",
    "playlist_track = pd.read_sql(\"SELECT * FROM playlist_track\", con=con)\n",
    "tracks = pd.read_sql(\"SELECT * FROM tracks\", con=con)\n",
    "sqlite_stat1 = pd.read_sql(\"SELECT * FROM sqlite_stat1\", con=con)\n",
    "\n",
    "con.close()"
   ]
  },
  {
   "cell_type": "code",
   "execution_count": 2,
   "id": "925210af",
   "metadata": {},
   "outputs": [
    {
     "name": "stdout",
     "output_type": "stream",
     "text": [
      "    CustomerId  TotalSpent\n",
      "0            1       39.62\n",
      "1            2       37.62\n",
      "2            3       39.62\n",
      "3            4       39.62\n",
      "4            5       40.62\n",
      "5            6       49.62\n",
      "6            7       42.62\n",
      "7            8       37.62\n",
      "8            9       37.62\n",
      "9           10       37.62\n",
      "10          11       37.62\n",
      "11          12       37.62\n",
      "12          13       37.62\n",
      "13          14       37.62\n",
      "14          15       38.62\n",
      "15          16       37.62\n",
      "16          17       39.62\n",
      "17          18       37.62\n",
      "18          19       38.62\n",
      "19          20       39.62\n",
      "20          21       37.62\n",
      "21          22       39.62\n",
      "22          23       37.62\n",
      "23          24       43.62\n",
      "24          25       42.62\n",
      "25          26       47.62\n",
      "26          27       37.62\n",
      "27          28       43.62\n",
      "28          29       37.62\n",
      "29          30       37.62\n",
      "30          31       37.62\n",
      "31          32       37.62\n",
      "32          33       37.62\n",
      "33          34       39.62\n",
      "34          35       37.62\n",
      "35          36       37.62\n",
      "36          37       43.62\n",
      "37          38       37.62\n",
      "38          39       38.62\n",
      "39          40       38.62\n",
      "40          41       37.62\n",
      "41          42       39.62\n",
      "42          43       40.62\n",
      "43          44       41.62\n",
      "44          45       45.62\n",
      "45          46       45.62\n",
      "46          47       37.62\n",
      "47          48       40.62\n",
      "48          49       37.62\n",
      "49          50       37.62\n",
      "50          51       38.62\n",
      "51          52       37.62\n",
      "52          53       37.62\n",
      "53          54       37.62\n",
      "54          55       37.62\n",
      "55          56       37.62\n",
      "56          57       46.62\n",
      "57          58       38.62\n",
      "58          59       36.64\n"
     ]
    }
   ],
   "source": [
    "#Find the total amount spent by each customer on purchases (considering invoices).\n",
    "total_spent_by_customer = invoices.groupby('CustomerId')['Total'].sum().reset_index()\n",
    "total_spent_by_customer.columns = ['CustomerId', 'TotalSpent']\n",
    "print(total_spent_by_customer)"
   ]
  },
  {
   "cell_type": "code",
   "execution_count": 3,
   "id": "82425d2a",
   "metadata": {},
   "outputs": [
    {
     "name": "stdout",
     "output_type": "stream",
     "text": [
      "    CustomerId  TotalSpent\n",
      "5            6       49.62\n",
      "25          26       47.62\n",
      "56          57       46.62\n",
      "44          45       45.62\n",
      "45          46       45.62\n"
     ]
    }
   ],
   "source": [
    "# Identify the top 5 customers with the highest total purchase amounts.\n",
    "total_spent_by_customer = invoices.groupby('CustomerId')['Total'].sum().reset_index()\n",
    "total_spent_by_customer.columns = ['CustomerId', 'TotalSpent']\n",
    "top_5_customers = total_spent_by_customer.sort_values(by='TotalSpent', ascending=False).head(5)\n",
    "print(top_5_customers)"
   ]
  },
  {
   "cell_type": "code",
   "execution_count": 4,
   "id": "7bccff5b",
   "metadata": {},
   "outputs": [
    {
     "name": "stdout",
     "output_type": "stream",
     "text": [
      "    CustomerId FirstName    LastName  TotalSpent\n",
      "5            6    Helena        Holý       49.62\n",
      "25          26   Richard  Cunningham       47.62\n",
      "56          57      Luis       Rojas       46.62\n",
      "44          45  Ladislav      Kovács       45.62\n",
      "45          46      Hugh    O'Reilly       45.62\n"
     ]
    }
   ],
   "source": [
    "# Display the customer ID, name, and the total amount spent for the top 5 customers.\n",
    "merged = pd.merge(customers, invoices, on='CustomerId', how='inner')\n",
    "total_spent_by_customer = merged.groupby(['CustomerId', 'FirstName', 'LastName'])['Total'].sum().reset_index()\n",
    "total_spent_by_customer.columns = ['CustomerId', 'FirstName', 'LastName', 'TotalSpent']\n",
    "top_5_customers = total_spent_by_customer.sort_values(by='TotalSpent', ascending=False).head(5)\n",
    "print(top_5_customers)"
   ]
  },
  {
   "cell_type": "code",
   "execution_count": 5,
   "id": "11104c17",
   "metadata": {},
   "outputs": [
    {
     "name": "stdout",
     "output_type": "stream",
     "text": [
      "Percentage of customers who prefer individual tracks: 94.42%\n",
      "Percentage of customers who prefer full albums: 5.58%\n"
     ]
    }
   ],
   "source": [
    "# Determine the percentage of customers who prefer to buy individual tracks instead of full albums.\n",
    "#A customer is considered to prefer individual tracks if they have purchased only a subset of tracks from an album.\n",
    "#Provide a summary of the percentage of customers who fall into each category (individual tracks vs. full albums).\n",
    "\n",
    "merged_tracks = pd.merge(invoice_items, tracks, on='TrackId', how='inner')\n",
    "\n",
    "album_purchases = merged_tracks.groupby(['InvoiceId', 'AlbumId'])['TrackId'].count().reset_index()\n",
    "album_purchases.columns = ['InvoiceId', 'AlbumId', 'TracksPurchased']\n",
    "\n",
    "total_tracks_per_album = tracks.groupby('AlbumId')['TrackId'].count().reset_index()\n",
    "total_tracks_per_album.columns = ['AlbumId', 'TotalTracks']\n",
    "\n",
    "album_analysis = pd.merge(album_purchases, total_tracks_per_album, on='AlbumId', how='left')\n",
    "\n",
    "album_analysis['IsFullAlbum'] = album_analysis['TracksPurchased'] == album_analysis['TotalTracks']\n",
    "\n",
    "full_album_invoices = album_analysis[album_analysis['IsFullAlbum']]['InvoiceId'].unique()\n",
    "\n",
    "total_invoices = merged_tracks['InvoiceId'].nunique()\n",
    "\n",
    "individual_track_invoices = total_invoices - len(full_album_invoices)\n",
    "\n",
    "percentage_individual_tracks = (individual_track_invoices / total_invoices) * 100\n",
    "percentage_full_albums = 100 - percentage_individual_tracks\n",
    "\n",
    "print(f\"Percentage of customers who prefer individual tracks: {percentage_individual_tracks:.2f}%\")\n",
    "print(f\"Percentage of customers who prefer full albums: {percentage_full_albums:.2f}%\")"
   ]
  }
 ],
 "metadata": {
  "kernelspec": {
   "display_name": "Python 3",
   "language": "python",
   "name": "python3"
  },
  "language_info": {
   "codemirror_mode": {
    "name": "ipython",
    "version": 3
   },
   "file_extension": ".py",
   "mimetype": "text/x-python",
   "name": "python",
   "nbconvert_exporter": "python",
   "pygments_lexer": "ipython3",
   "version": "3.13.2"
  }
 },
 "nbformat": 4,
 "nbformat_minor": 5
}
