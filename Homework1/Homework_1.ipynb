{
 "cells": [
  {
   "cell_type": "code",
   "execution_count": 5,
   "metadata": {},
   "outputs": [
    {
     "name": "stdout",
     "output_type": "stream",
     "text": [
      "24\n"
     ]
    },
    {
     "data": {
      "text/plain": [
       "36"
      ]
     },
     "execution_count": 5,
     "metadata": {},
     "output_type": "execute_result"
    }
   ],
   "source": [
    "#1.Given a side of square. Find its perimeter and area.\n",
    "a=int(input('Enter a side of a square'))\n",
    "Perimeter = (a*4)\n",
    "Area = a**2\n",
    "print(Perimeter)\n",
    "Area"
   ]
  },
  {
   "cell_type": "code",
   "execution_count": 11,
   "metadata": {},
   "outputs": [
    {
     "name": "stdout",
     "output_type": "stream",
     "text": [
      "21.991148575128552\n"
     ]
    }
   ],
   "source": [
    "#2.Given diameter of circle. Find its length.\n",
    "import math\n",
    "a=int(input('Enter diameter of circle in order to reach its length'))\n",
    "Length = math.pi * a\n",
    "print (Length)"
   ]
  },
  {
   "cell_type": "code",
   "execution_count": 15,
   "metadata": {},
   "outputs": [
    {
     "name": "stdout",
     "output_type": "stream",
     "text": [
      "4.5\n"
     ]
    }
   ],
   "source": [
    "#3.Given two numbers a and b. Find their mean.\n",
    "import statistics\n",
    "a=int(input('Enter a number'))\n",
    "b=int(input('Enter a number again for finding mean of given 2 numbers'))\n",
    "Mean = statistics.mean([a, b])\n",
    "print (Mean)\n"
   ]
  },
  {
   "cell_type": "code",
   "execution_count": 21,
   "metadata": {},
   "outputs": [
    {
     "name": "stdout",
     "output_type": "stream",
     "text": [
      "Sum of 4 and 6 = 10\n",
      "Product of (4, 6) = 24\n",
      "Square of 4 and 6 are 16.0 and 36.0\n"
     ]
    }
   ],
   "source": [
    "#4.Given two numbers a and b. Find their sum, product and square of each number.\n",
    "import math\n",
    "a=int(input('Enter a number'))\n",
    "b=int(input('Enter a number again'))\n",
    "Sum = a+b\n",
    "Product = math.prod({a, b})\n",
    "Square1 = math.pow(a, 2)\n",
    "Square2 = math.pow(b, 2)\n",
    "print(f'Sum of {a} and {b} = {Sum}')\n",
    "print(f'Product of {a, b} = {Product}')\n",
    "print(f'Square of {a} and {b} are {Square1} and {Square2}')"
   ]
  }
 ],
 "metadata": {
  "kernelspec": {
   "display_name": "Python 3",
   "language": "python",
   "name": "python3"
  },
  "language_info": {
   "codemirror_mode": {
    "name": "ipython",
    "version": 3
   },
   "file_extension": ".py",
   "mimetype": "text/x-python",
   "name": "python",
   "nbconvert_exporter": "python",
   "pygments_lexer": "ipython3",
   "version": "3.13.2"
  }
 },
 "nbformat": 4,
 "nbformat_minor": 2
}
