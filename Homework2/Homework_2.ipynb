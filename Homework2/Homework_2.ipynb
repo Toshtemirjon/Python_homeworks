#1. Age Calculator
#Write a Python program to ask for a user's name and year of birth, then calculate and display their age.
from datetime import datetime
a=input('What is your name')
b=int(input('Which year did you born'))
Age = datetime.now().year - b
print(f'{a} is {Age} years old')

#2. Extract Car Names
#Extract car names from the following text: txt = 'LMaasleitbtui'
a='LMaasleitbtui'
print(a[0 :: 2])
print(a[1 :: 2])
#3. Extract Car Names
#Extract car names from the following text: txt = 'MsaatmiazD'
a='MsaatmiazD'
print(a[0 :: 2])
print(a[:: -2])
#4. Extract Residence Area
#Extract the residence area from the following text: txt = "I'am John. I am from London"
txt ="I'am John. I am from London"
a=txt.index('from')+5
print(txt[a:])
#5. Reverse String
#Write a Python program that takes a user input string and prints it in reverse order.
a=str(input('Enter any word to get reverse version'))
print(a[:: -1])

#6. Count Vowels
#Write a Python program that counts the number of vowels in a given string.
txt =str(input('Write a word to get number of vowels in it'))
vowels = 'aeuio'
a=0
for i in txt:
    for j in vowels:
        if i==j:
            a=a+1
print(a)            



#7. Find Maximum Value
#Write a Python program that takes a list of numbers as input and prints the maximum value.
a=int(input('Enter number'))
b=int(input('Enter number'))
print(max(a, b))


#8. Check Palindrome
#Write a Python program that checks if a given word is a palindrome (reads the same forward and backward).
a=input('enter word for checking it is palindrome')
if a==a[:: -1]:
    print('Palindrome')
else: print('not Palindrome')
#9. Extract Email Domain
#Write a Python program that extracts and prints the domain from an email address provided by the user.
a=input('Enter your email adress and get domain part')
b=a.index('@')+1
print(a[b::])
#10. Generate Random Password
#Write a Python program to generate a random password containing letters, digits, and special characters.
import random
import string
length = int(input("Enter password length: "))
characters = string.ascii_letters + string.digits + string.punctuation #abcdefghijklmnopqrstuvwxyzABCDEFGHIJKLMNOPQRSTUVWXYZ0123456789!"#$%&'()*+,-./:;<=>?@[\]^_`{|}~
pas = ''.join(random.choice(characters) for _ in range(length))
print(pas)
