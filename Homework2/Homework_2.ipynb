{
 "cells": [
  {
   "cell_type": "code",
   "execution_count": 5,
   "metadata": {},
   "outputs": [
    {
     "name": "stdout",
     "output_type": "stream",
     "text": [
      "2000 is 25 years old\n"
     ]
    }
   ],
   "source": [
    "#1. Age Calculator\n",
    "#Write a Python program to ask for a user's name and year of birth, then calculate and display their age.\n",
    "from datetime import datetime\n",
    "a=input('What is your name')\n",
    "b=int(input('Which year did you born'))\n",
    "Age = datetime.now().year - b\n",
    "print(f'{a} is {Age} years old')\n"
   ]
  },
  {
   "cell_type": "code",
   "execution_count": 12,
   "metadata": {},
   "outputs": [
    {
     "name": "stdout",
     "output_type": "stream",
     "text": [
      "Lasetti\n",
      "Malibu\n"
     ]
    }
   ],
   "source": [
    "#2. Extract Car Names\n",
    "#Extract car names from the following text: txt = 'LMaasleitbtui'\n",
    "a='LMaasleitbtui'\n",
    "print(a[0 :: 2])\n",
    "print(a[1 :: 2])"
   ]
  },
  {
   "cell_type": "code",
   "execution_count": null,
   "metadata": {},
   "outputs": [
    {
     "name": "stdout",
     "output_type": "stream",
     "text": [
      "Matiz\n",
      "Damas\n"
     ]
    }
   ],
   "source": [
    "#3. Extract Car Names\n",
    "#Extract car names from the following text: txt = 'MsaatmiazD'\n",
    "a='MsaatmiazD'\n",
    "print(a[0 :: 2])\n",
    "print(a[:: -2])"
   ]
  },
  {
   "cell_type": "code",
   "execution_count": 32,
   "metadata": {},
   "outputs": [
    {
     "name": "stdout",
     "output_type": "stream",
     "text": [
      "London\n"
     ]
    }
   ],
   "source": [
    "#4. Extract Residence Area\n",
    "#Extract the residence area from the following text: txt = \"I'am John. I am from London\"\n",
    "txt =\"I'am John. I am from London\"\n",
    "a=txt.index('from')+5\n",
    "print(txt[a:])"
   ]
  },
  {
   "cell_type": "code",
   "execution_count": 33,
   "metadata": {},
   "outputs": [
    {
     "name": "stdout",
     "output_type": "stream",
     "text": [
      "olleh\n"
     ]
    }
   ],
   "source": [
    "#5. Reverse String\n",
    "#Write a Python program that takes a user input string and prints it in reverse order.\n",
    "a=str(input('Enter any word to get reverse version'))\n",
    "print(a[:: -1])\n"
   ]
  },
  {
   "cell_type": "code",
   "execution_count": 37,
   "metadata": {},
   "outputs": [
    {
     "name": "stdout",
     "output_type": "stream",
     "text": [
      "3\n"
     ]
    }
   ],
   "source": [
    "#6. Count Vowels\n",
    "#Write a Python program that counts the number of vowels in a given string.\n",
    "txt =str(input('Write a word to get number of vowels in it'))\n",
    "vowels = 'aeuio'\n",
    "a=0\n",
    "for i in txt:\n",
    "    for j in vowels:\n",
    "        if i==j:\n",
    "            a=a+1\n",
    "print(a)            \n",
    "\n",
    "\n"
   ]
  },
  {
   "cell_type": "code",
   "execution_count": 46,
   "metadata": {},
   "outputs": [
    {
     "name": "stdout",
     "output_type": "stream",
     "text": [
      "7\n"
     ]
    }
   ],
   "source": [
    "#7. Find Maximum Value\n",
    "#Write a Python program that takes a list of numbers as input and prints the maximum value.\n",
    "a=int(input('Enter number'))\n",
    "b=int(input('Enter number'))\n",
    "print(max(a, b))\n",
    "\n"
   ]
  },
  {
   "cell_type": "code",
   "execution_count": 48,
   "metadata": {},
   "outputs": [
    {
     "name": "stdout",
     "output_type": "stream",
     "text": [
      "not Palindrome\n"
     ]
    }
   ],
   "source": [
    "#8. Check Palindrome\n",
    "#Write a Python program that checks if a given word is a palindrome (reads the same forward and backward).\n",
    "a=input('enter word for checking it is palindrome')\n",
    "if a==a[:: -1]:\n",
    "    print('Palindrome')\n",
    "else: print('not Palindrome')"
   ]
  },
  {
   "cell_type": "code",
   "execution_count": 50,
   "metadata": {},
   "outputs": [
    {
     "name": "stdout",
     "output_type": "stream",
     "text": [
      "newuu.uz\n"
     ]
    }
   ],
   "source": [
    "#9. Extract Email Domain\n",
    "#Write a Python program that extracts and prints the domain from an email address provided by the user.\n",
    "a=input('Enter your email adress and get domain part')\n",
    "b=a.index('@')+1\n",
    "print(a[b::])"
   ]
  },
  {
   "cell_type": "code",
   "execution_count": 51,
   "metadata": {},
   "outputs": [
    {
     "name": "stdout",
     "output_type": "stream",
     "text": [
      "n29>sFf2\n"
     ]
    }
   ],
   "source": [
    "#10. Generate Random Password\n",
    "#Write a Python program to generate a random password containing letters, digits, and special characters.\n",
    "import random\n",
    "import string\n",
    "length = int(input(\"Enter password length: \"))\n",
    "characters = string.ascii_letters + string.digits + string.punctuation #abcdefghijklmnopqrstuvwxyzABCDEFGHIJKLMNOPQRSTUVWXYZ0123456789!\"#$%&'()*+,-./:;<=>?@[\\]^_`{|}~\n",
    "pas = ''.join(random.choice(characters) for _ in range(length))\n",
    "print(pas)\n"
   ]
  }
 ],
 "metadata": {
  "kernelspec": {
   "display_name": "Python 3",
   "language": "python",
   "name": "python3"
  },
  "language_info": {
   "codemirror_mode": {
    "name": "ipython",
    "version": 3
   },
   "file_extension": ".py",
   "mimetype": "text/x-python",
   "name": "python",
   "nbconvert_exporter": "python",
   "pygments_lexer": "ipython3",
   "version": "3.13.2"
  }
 },
 "nbformat": 4,
 "nbformat_minor": 2
}
