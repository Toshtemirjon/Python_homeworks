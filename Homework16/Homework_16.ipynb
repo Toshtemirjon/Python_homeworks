{
 "cells": [
  {
   "cell_type": "code",
   "execution_count": 1,
   "id": "d42a62f4",
   "metadata": {},
   "outputs": [
    {
     "name": "stdout",
     "output_type": "stream",
     "text": [
      "[1 2 3 4]\n"
     ]
    }
   ],
   "source": [
    "#1. Convert List to 1D Array\n",
    "import numpy as np\n",
    "a = [1, 2, 3, 4]\n",
    "a = np.array(a)\n",
    "print(a)"
   ]
  },
  {
   "cell_type": "code",
   "execution_count": 2,
   "id": "3b1a56dc",
   "metadata": {},
   "outputs": [
    {
     "name": "stdout",
     "output_type": "stream",
     "text": [
      "[[ 2  3  4]\n",
      " [ 5  6  7]\n",
      " [ 8  9 10]]\n"
     ]
    }
   ],
   "source": [
    "#2 Create 3x3 Matrix (2?10)\n",
    "import numpy as np\n",
    "a = np.arange(2, 11).reshape(3, 3)\n",
    "print(a)"
   ]
  },
  {
   "cell_type": "code",
   "execution_count": 4,
   "id": "c08a8954",
   "metadata": {},
   "outputs": [
    {
     "name": "stdout",
     "output_type": "stream",
     "text": [
      "[0. 0. 0. 0. 0. 0. 0. 4. 0. 0.]\n"
     ]
    }
   ],
   "source": [
    "#3. Null Vector (10) & Update Eighth Value\n",
    "a = np.zeros(10)\n",
    "a[7] = 4\n",
    "print(a)"
   ]
  },
  {
   "cell_type": "code",
   "execution_count": 5,
   "id": "8d4a8191",
   "metadata": {},
   "outputs": [
    {
     "name": "stdout",
     "output_type": "stream",
     "text": [
      "[10 11 12 13 14 15 16 17 18 19 20 21 22 23 24 25]\n"
     ]
    }
   ],
   "source": [
    "#4. Array from 10 to 25\n",
    "array = np.arange(10, 26)\n",
    "print(array)"
   ]
  },
  {
   "cell_type": "code",
   "execution_count": 6,
   "id": "438d5713",
   "metadata": {},
   "outputs": [
    {
     "name": "stdout",
     "output_type": "stream",
     "text": [
      "[1. 2. 3. 4.]\n",
      "float64\n"
     ]
    }
   ],
   "source": [
    "#5 Conver array to float type\n",
    "a = np.array([1, 2, 3, 4])\n",
    "a = a.astype(float)\n",
    "print(a)\n",
    "print(a.dtype)"
   ]
  },
  {
   "cell_type": "code",
   "execution_count": 7,
   "id": "e0a599ed",
   "metadata": {},
   "outputs": [
    {
     "name": "stdout",
     "output_type": "stream",
     "text": [
      "[ 32.     53.6   113.378  93.2   211.838]\n"
     ]
    }
   ],
   "source": [
    "#6 . Celsius to Fahrenheit Conversion\n",
    "c = np.array([0, 12, 45.21, 34, 99.91])\n",
    "f = (c * 9/5) + 32\n",
    "print(f)"
   ]
  },
  {
   "cell_type": "code",
   "execution_count": 8,
   "id": "6330ff3a",
   "metadata": {},
   "outputs": [
    {
     "name": "stdout",
     "output_type": "stream",
     "text": [
      "[1 2 3 4 5 6]\n"
     ]
    }
   ],
   "source": [
    "#7. Append values to array\n",
    "a = np.array([1, 2, 3])\n",
    "a = np.append(a, [4, 5, 6])\n",
    "print(a)"
   ]
  },
  {
   "cell_type": "code",
   "execution_count": 9,
   "id": "52ed35c9",
   "metadata": {},
   "outputs": [
    {
     "name": "stdout",
     "output_type": "stream",
     "text": [
      "Mean: 0.5384332545400897\n",
      "Median: 0.5881951359676294\n",
      "Standard Deviation: 0.30483968688870366\n"
     ]
    }
   ],
   "source": [
    "#8. Array statistics functions\n",
    "a = np.random.rand(10)\n",
    "mean = np.mean(a)\n",
    "median = np.median(a)\n",
    "std = np.std(a)\n",
    "print(\"Mean:\", mean)\n",
    "print(\"Median:\", median)\n",
    "print(\"Standard Deviation:\", std)"
   ]
  },
  {
   "cell_type": "code",
   "execution_count": 10,
   "id": "96ab8143",
   "metadata": {},
   "outputs": [
    {
     "name": "stdout",
     "output_type": "stream",
     "text": [
      "Min: 0.041923132639592686\n",
      "Max: 0.6031683979008607\n"
     ]
    }
   ],
   "source": [
    "#9. find min and max values\n",
    "a = np.random.rand(10)\n",
    "min_value = np.min(a)\n",
    "max_value = np.max(a)\n",
    "print(\"Min:\", min_value)\n",
    "print(\"Max:\", max_value)"
   ]
  },
  {
   "cell_type": "code",
   "execution_count": 11,
   "id": "db2371de",
   "metadata": {},
   "outputs": [
    {
     "name": "stdout",
     "output_type": "stream",
     "text": [
      "[[[0.99523286 0.55048982 0.0967488 ]\n",
      "  [0.96882477 0.63115754 0.90378205]\n",
      "  [0.87452237 0.86710741 0.59046932]]\n",
      "\n",
      " [[0.49108644 0.81318709 0.38582647]\n",
      "  [0.13527062 0.48546702 0.3054617 ]\n",
      "  [0.9967384  0.95065705 0.25067362]]\n",
      "\n",
      " [[0.03089019 0.92552258 0.19242197]\n",
      "  [0.13970592 0.24272999 0.377694  ]\n",
      "  [0.16386471 0.59859164 0.58678737]]]\n",
      "(3, 3, 3)\n"
     ]
    }
   ],
   "source": [
    "#10 Create a 3x3x3 array with random values.\n",
    "a = np.random.rand(3, 3, 3)\n",
    "print(a)\n",
    "print(a.shape)"
   ]
  }
 ],
 "metadata": {
  "kernelspec": {
   "display_name": "Python 3",
   "language": "python",
   "name": "python3"
  },
  "language_info": {
   "codemirror_mode": {
    "name": "ipython",
    "version": 3
   },
   "file_extension": ".py",
   "mimetype": "text/x-python",
   "name": "python",
   "nbconvert_exporter": "python",
   "pygments_lexer": "ipython3",
   "version": "3.13.2"
  }
 },
 "nbformat": 4,
 "nbformat_minor": 5
}
