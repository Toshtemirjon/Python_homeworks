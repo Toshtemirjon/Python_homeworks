{
 "cells": [
  {
   "cell_type": "code",
   "execution_count": 8,
   "metadata": {},
   "outputs": [
    {
     "name": "stdout",
     "output_type": "stream",
     "text": [
      "Year must be an integer.\n"
     ]
    }
   ],
   "source": [
    "#1 def is_leap(year): \"\"\" Determines whether a given year is a leap year.\n",
    "# the year should be divisible by 4\n",
    "# the year should not be divisible 100\n",
    "# the year should be divisible by 400\n",
    "try:\n",
    "     year =int(input('Enter a year to know it is a leap year or not'))\n",
    "     if year % 4 == 0:\n",
    "         if year % 100 != 0:\n",
    "             if year % 400 == 0:\n",
    "                 print(f'{year} is a leap year')\n",
    "             else:\n",
    "                 print(f'{year} is not a leap year')\n",
    "         else:\n",
    "             print(f'{year} is a leap year')\n",
    "     else:\n",
    "         print(f'{year} is not a leap year')\n",
    "except ValueError:\n",
    "    print(\"Year must be an integer.\")         "
   ]
  },
  {
   "cell_type": "code",
   "execution_count": 14,
   "metadata": {},
   "outputs": [
    {
     "name": "stdout",
     "output_type": "stream",
     "text": [
      "Enter a valuable integer\n"
     ]
    }
   ],
   "source": [
    "#2. Conditional Statements Exercise\n",
    "#Given an integer, n, perform the following conditional actions:\n",
    "\n",
    "#If n is odd, print Weird\n",
    "#If n is even and in the inclusive range of 2 to 5, print Not Weird\n",
    "#If n is even and in the inclusive range of 6 to 20, print Weird\n",
    "#If n is even and greater than 20, print Not Weird\n",
    "try:    \n",
    "    n= int(input('Enter n int which should be in range 1<= n <=100'))\n",
    "    if n%2==0:\n",
    "        if 2<=n<=5:\n",
    "            print('Not Weird')\n",
    "        elif 6<=n<=20:\n",
    "            print('Weird')   \n",
    "        else:\n",
    "            print('Not Weird') \n",
    "    else:\n",
    "        print('Weird')           \n",
    "except ValueError:\n",
    "    print('Enter a valuable integer')"
   ]
  },
  {
   "cell_type": "code",
   "execution_count": null,
   "metadata": {},
   "outputs": [
    {
     "name": "stdout",
     "output_type": "stream",
     "text": [
      "Even numbers between 4 and 9 (inclusive): [4, 6, 8]\n"
     ]
    }
   ],
   "source": [
    "#3 Given two integer numbers a and b. Find even numbers between this numbers. a and b are inclusive. Don't use loop.\n",
    "#Give two solutions.\n",
    "#Solution 1 with if-else statement.\n",
    "#Solution 2 without if-else statement.\n",
    "#3.1\n",
    "def sol1(a, b):\n",
    "    if a > b:\n",
    "        return []\n",
    "    if a % 2 == 0: \n",
    "        return [a] + sol1(a + 1, b)\n",
    "    else:  \n",
    "        return sol1(a + 1, b)\n",
    "\n",
    "a = int(input(\"Enter first number a: \"))\n",
    "b = int(input(\"Enter second number b: \"))\n",
    "\n",
    "even_numbers = sol1(a, b)\n",
    "print(f\"Even numbers between {a} and {b} (inclusive): {even_numbers}\")\n"
   ]
  },
  {
   "cell_type": "code",
   "execution_count": 28,
   "metadata": {},
   "outputs": [
    {
     "name": "stdout",
     "output_type": "stream",
     "text": [
      "Even numbers between 1 and 9 (inclusive): [2, 4, 6, 8]\n"
     ]
    }
   ],
   "source": [
    "#3.2\n",
    "def sol2(a, b):\n",
    "    return list(filter(lambda x: x % 2 == 0, range(a, b + 1)))\n",
    "\n",
    "a = int(input(\"Enter first number a: \"))\n",
    "b = int(input(\"Enter second number b: \"))\n",
    "\n",
    "even_numbers = sol2(a, b)\n",
    "print(f\"Even numbers between {a} and {b} (inclusive): {even_numbers}\")"
   ]
  }
 ],
 "metadata": {
  "kernelspec": {
   "display_name": "Python 3",
   "language": "python",
   "name": "python3"
  },
  "language_info": {
   "codemirror_mode": {
    "name": "ipython",
    "version": 3
   },
   "file_extension": ".py",
   "mimetype": "text/x-python",
   "name": "python",
   "nbconvert_exporter": "python",
   "pygments_lexer": "ipython3",
   "version": "3.13.2"
  }
 },
 "nbformat": 4,
 "nbformat_minor": 2
}
