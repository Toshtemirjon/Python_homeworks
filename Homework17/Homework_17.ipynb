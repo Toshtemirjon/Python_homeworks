{
 "cells": [
  {
   "cell_type": "code",
   "execution_count": 1,
   "id": "1517c64d",
   "metadata": {},
   "outputs": [
    {
     "name": "stdout",
     "output_type": "stream",
     "text": [
      "First 3 rows of the DataFrame:\n",
      "  first_name  age           city\n",
      "0       Alex   25       New York\n",
      "1        Bob   30  San Francisco\n",
      "2    Charlie   35    Los Angeles\n",
      "\n",
      "Mean age of the individuals: 32.5\n",
      "\n",
      "Selected columns (first_name and city):\n",
      "  first_name           city\n",
      "0       Alex       New York\n",
      "1        Bob  San Francisco\n",
      "2    Charlie    Los Angeles\n",
      "3      David        Chicago\n",
      "\n",
      "Summary statistics of the DataFrame:\n",
      "             age        salary\n",
      "count   4.000000      4.000000\n",
      "mean   32.500000  74886.250000\n",
      "std     6.454972  20247.671938\n",
      "min    25.000000  50860.000000\n",
      "25%    28.750000  62061.250000\n",
      "50%    32.500000  76976.500000\n",
      "75%    36.250000  89801.500000\n",
      "max    40.000000  94732.000000\n"
     ]
    }
   ],
   "source": [
    "import pandas as pd\n",
    "import numpy as np\n",
    "\n",
    "# Step 1: Create the DataFrame\n",
    "data = {\n",
    "    'First Name': ['Alex', 'Bob', 'Charlie', 'David'],\n",
    "    'Age': [25, 30, 35, 40],\n",
    "    'City': ['New York', 'San Francisco', 'Los Angeles', 'Chicago']\n",
    "}\n",
    "df = pd.DataFrame(data)\n",
    "\n",
    "df.rename(columns=lambda x: x.lower().replace(\" \", \"_\"), inplace=True)\n",
    "\n",
    "print(\"First 3 rows of the DataFrame:\")\n",
    "print(df.head(3))\n",
    "\n",
    "mean_age = df['age'].mean()\n",
    "print(\"\\nMean age of the individuals:\", mean_age)\n",
    "\n",
    "print(\"\\nSelected columns (first_name and city):\")\n",
    "print(df[['first_name', 'city']])\n",
    "\n",
    "np.random.seed(42)  # For reproducibility\n",
    "df['salary'] = np.random.randint(50000, 100000, size=len(df))\n",
    "\n",
    "print(\"\\nSummary statistics of the DataFrame:\")\n",
    "print(df.describe())"
   ]
  },
  {
   "cell_type": "code",
   "execution_count": 2,
   "id": "4947d773",
   "metadata": {},
   "outputs": [
    {
     "name": "stdout",
     "output_type": "stream",
     "text": [
      "Maximum Sales: 8000\n",
      "Maximum Expenses: 4500\n",
      "\n",
      "Minimum Sales: 5000\n",
      "Minimum Expenses: 3000\n",
      "\n",
      "Average Sales: 6625.0\n",
      "Average Expenses: 3750.0\n"
     ]
    }
   ],
   "source": [
    "import pandas as pd\n",
    "\n",
    "data = {\n",
    "    'Month': ['Jan', 'Feb', 'Mar', 'Apr'],\n",
    "    'Sales': [5000, 6000, 7500, 8000],\n",
    "    'Expenses': [3000, 3500, 4000, 4500]\n",
    "}\n",
    "sales_and_expenses = pd.DataFrame(data)\n",
    "\n",
    "max_sales = sales_and_expenses['Sales'].max()\n",
    "max_expenses = sales_and_expenses['Expenses'].max()\n",
    "print(\"Maximum Sales:\", max_sales)\n",
    "print(\"Maximum Expenses:\", max_expenses)\n",
    "\n",
    "min_sales = sales_and_expenses['Sales'].min()\n",
    "min_expenses = sales_and_expenses['Expenses'].min()\n",
    "print(\"\\nMinimum Sales:\", min_sales)\n",
    "print(\"Minimum Expenses:\", min_expenses)\n",
    "\n",
    "avg_sales = sales_and_expenses['Sales'].mean()\n",
    "avg_expenses = sales_and_expenses['Expenses'].mean()\n",
    "print(\"\\nAverage Sales:\", avg_sales)\n",
    "print(\"Average Expenses:\", avg_expenses)"
   ]
  },
  {
   "cell_type": "code",
   "execution_count": 3,
   "id": "70fd3fed",
   "metadata": {},
   "outputs": [
    {
     "name": "stdout",
     "output_type": "stream",
     "text": [
      "Maximum expense for each category:\n",
      "Category\n",
      "Rent             1500\n",
      "Utilities         250\n",
      "Groceries         350\n",
      "Entertainment     180\n",
      "dtype: int64\n",
      "\n",
      "Minimum expense for each category:\n",
      "Category\n",
      "Rent             1200\n",
      "Utilities         200\n",
      "Groceries         300\n",
      "Entertainment     150\n",
      "dtype: int64\n",
      "\n",
      "Average expense for each category:\n",
      "Category\n",
      "Rent             1350.0\n",
      "Utilities         227.5\n",
      "Groceries         325.0\n",
      "Entertainment     165.0\n",
      "dtype: float64\n"
     ]
    }
   ],
   "source": [
    "import pandas as pd\n",
    "\n",
    "data = {\n",
    "    'Category': ['Rent', 'Utilities', 'Groceries', 'Entertainment'],\n",
    "    'January': [1200, 200, 300, 150],\n",
    "    'February': [1300, 220, 320, 160],\n",
    "    'March': [1400, 240, 330, 170],\n",
    "    'April': [1500, 250, 350, 180]\n",
    "}\n",
    "expenses = pd.DataFrame(data)\n",
    "\n",
    "expenses.set_index('Category', inplace=True)\n",
    "\n",
    "max_expenses = expenses.max(axis=1)\n",
    "print(\"Maximum expense for each category:\")\n",
    "print(max_expenses)\n",
    "\n",
    "min_expenses = expenses.min(axis=1)\n",
    "print(\"\\nMinimum expense for each category:\")\n",
    "print(min_expenses)\n",
    "\n",
    "avg_expenses = expenses.mean(axis=1)\n",
    "print(\"\\nAverage expense for each category:\")\n",
    "print(avg_expenses)"
   ]
  }
 ],
 "metadata": {
  "kernelspec": {
   "display_name": "Python 3",
   "language": "python",
   "name": "python3"
  },
  "language_info": {
   "codemirror_mode": {
    "name": "ipython",
    "version": 3
   },
   "file_extension": ".py",
   "mimetype": "text/x-python",
   "name": "python",
   "nbconvert_exporter": "python",
   "pygments_lexer": "ipython3",
   "version": "3.13.2"
  }
 },
 "nbformat": 4,
 "nbformat_minor": 5
}
